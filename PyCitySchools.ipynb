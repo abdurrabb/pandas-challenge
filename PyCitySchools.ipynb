{
 "cells": [
  {
   "cell_type": "markdown",
   "id": "b176f239-e957-43a9-91a0-f89bf713b8de",
   "metadata": {
    "tags": []
   },
   "source": [
    "# Import Data and Establish Data Frame"
   ]
  },
  {
   "cell_type": "code",
   "execution_count": 24,
   "id": "a9dbdabe-5357-4117-b2a0-8ae086a632f2",
   "metadata": {},
   "outputs": [],
   "source": [
    "#PyCitySchools Practice Space\n",
    "import pandas as pd\n",
    "import numpy as np"
   ]
  },
  {
   "cell_type": "code",
   "execution_count": 25,
   "id": "7fb8c685-b5fb-4da6-bb6b-7e536ea7821f",
   "metadata": {},
   "outputs": [],
   "source": [
    "school_data_to_load = \"Resources/schools_complete.csv\"\n",
    "student_data_to_load = \"Resources/students_complete.csv\"\n",
    "\n",
    "# File to Load (Remember to Change These)\n",
    "\n",
    "school_data = pd.read_csv(school_data_to_load)\n",
    "student_data = pd.read_csv(student_data_to_load)\n",
    "\n",
    "# Read School and Student Data File and store into Pandas DataFrames"
   ]
  },
  {
   "cell_type": "code",
   "execution_count": 26,
   "id": "4c651ab8-f38b-47d3-8cce-ec6dd4105c03",
   "metadata": {},
   "outputs": [
    {
     "data": {
      "text/html": [
       "<div>\n",
       "<style scoped>\n",
       "    .dataframe tbody tr th:only-of-type {\n",
       "        vertical-align: middle;\n",
       "    }\n",
       "\n",
       "    .dataframe tbody tr th {\n",
       "        vertical-align: top;\n",
       "    }\n",
       "\n",
       "    .dataframe thead th {\n",
       "        text-align: right;\n",
       "    }\n",
       "</style>\n",
       "<table border=\"1\" class=\"dataframe\">\n",
       "  <thead>\n",
       "    <tr style=\"text-align: right;\">\n",
       "      <th></th>\n",
       "      <th>Student ID</th>\n",
       "      <th>student_name</th>\n",
       "      <th>gender</th>\n",
       "      <th>grade</th>\n",
       "      <th>school_name</th>\n",
       "      <th>reading_score</th>\n",
       "      <th>math_score</th>\n",
       "      <th>School ID</th>\n",
       "      <th>type</th>\n",
       "      <th>size</th>\n",
       "      <th>budget</th>\n",
       "    </tr>\n",
       "  </thead>\n",
       "  <tbody>\n",
       "    <tr>\n",
       "      <th>0</th>\n",
       "      <td>0</td>\n",
       "      <td>Paul Bradley</td>\n",
       "      <td>M</td>\n",
       "      <td>9th</td>\n",
       "      <td>Huang High School</td>\n",
       "      <td>66</td>\n",
       "      <td>79</td>\n",
       "      <td>0</td>\n",
       "      <td>District</td>\n",
       "      <td>2917</td>\n",
       "      <td>1910635</td>\n",
       "    </tr>\n",
       "    <tr>\n",
       "      <th>1</th>\n",
       "      <td>1</td>\n",
       "      <td>Victor Smith</td>\n",
       "      <td>M</td>\n",
       "      <td>12th</td>\n",
       "      <td>Huang High School</td>\n",
       "      <td>94</td>\n",
       "      <td>61</td>\n",
       "      <td>0</td>\n",
       "      <td>District</td>\n",
       "      <td>2917</td>\n",
       "      <td>1910635</td>\n",
       "    </tr>\n",
       "    <tr>\n",
       "      <th>2</th>\n",
       "      <td>2</td>\n",
       "      <td>Kevin Rodriguez</td>\n",
       "      <td>M</td>\n",
       "      <td>12th</td>\n",
       "      <td>Huang High School</td>\n",
       "      <td>90</td>\n",
       "      <td>60</td>\n",
       "      <td>0</td>\n",
       "      <td>District</td>\n",
       "      <td>2917</td>\n",
       "      <td>1910635</td>\n",
       "    </tr>\n",
       "    <tr>\n",
       "      <th>3</th>\n",
       "      <td>3</td>\n",
       "      <td>Dr. Richard Scott</td>\n",
       "      <td>M</td>\n",
       "      <td>12th</td>\n",
       "      <td>Huang High School</td>\n",
       "      <td>67</td>\n",
       "      <td>58</td>\n",
       "      <td>0</td>\n",
       "      <td>District</td>\n",
       "      <td>2917</td>\n",
       "      <td>1910635</td>\n",
       "    </tr>\n",
       "    <tr>\n",
       "      <th>4</th>\n",
       "      <td>4</td>\n",
       "      <td>Bonnie Ray</td>\n",
       "      <td>F</td>\n",
       "      <td>9th</td>\n",
       "      <td>Huang High School</td>\n",
       "      <td>97</td>\n",
       "      <td>84</td>\n",
       "      <td>0</td>\n",
       "      <td>District</td>\n",
       "      <td>2917</td>\n",
       "      <td>1910635</td>\n",
       "    </tr>\n",
       "  </tbody>\n",
       "</table>\n",
       "</div>"
      ],
      "text/plain": [
       "   Student ID       student_name gender grade        school_name  \\\n",
       "0           0       Paul Bradley      M   9th  Huang High School   \n",
       "1           1       Victor Smith      M  12th  Huang High School   \n",
       "2           2    Kevin Rodriguez      M  12th  Huang High School   \n",
       "3           3  Dr. Richard Scott      M  12th  Huang High School   \n",
       "4           4         Bonnie Ray      F   9th  Huang High School   \n",
       "\n",
       "   reading_score  math_score  School ID      type  size   budget  \n",
       "0             66          79          0  District  2917  1910635  \n",
       "1             94          61          0  District  2917  1910635  \n",
       "2             90          60          0  District  2917  1910635  \n",
       "3             67          58          0  District  2917  1910635  \n",
       "4             97          84          0  District  2917  1910635  "
      ]
     },
     "execution_count": 26,
     "metadata": {},
     "output_type": "execute_result"
    }
   ],
   "source": [
    "school_data_complete = pd.merge(student_data, school_data, how=\"left\", on=[\"school_name\"])\n",
    "\n",
    "# Combine the data into a single dataset.\n",
    "\n",
    "school_data_complete.head()\n",
    "\n",
    "# Verify dataset grab and merge successful #39,170 rows of data"
   ]
  },
  {
   "cell_type": "code",
   "execution_count": 4,
   "id": "91b9e743-eea8-4746-9c80-fa7766b4db3b",
   "metadata": {},
   "outputs": [],
   "source": [
    "cs_df = school_data_complete.copy()\n",
    "\n",
    "# Create copy of data set to preserve original data"
   ]
  },
  {
   "cell_type": "markdown",
   "id": "f501577c-dcae-42a4-882a-a1f745393994",
   "metadata": {},
   "source": [
    "# Organize District Summary Data"
   ]
  },
  {
   "cell_type": "code",
   "execution_count": 13,
   "id": "d46d9534-97a5-48fb-bb52-2b0ce91c1793",
   "metadata": {},
   "outputs": [
    {
     "data": {
      "text/plain": [
       "15"
      ]
     },
     "execution_count": 13,
     "metadata": {},
     "output_type": "execute_result"
    }
   ],
   "source": [
    "total_schools = cs_df.school_name.value_counts().count()\n",
    "total_schools\n",
    "\n",
    "# Calculate the total number of schools"
   ]
  },
  {
   "cell_type": "code",
   "execution_count": 15,
   "id": "7484bebc-59a8-4342-b760-730b8d311fd2",
   "metadata": {},
   "outputs": [
    {
     "data": {
      "text/plain": [
       "39170"
      ]
     },
     "execution_count": 15,
     "metadata": {},
     "output_type": "execute_result"
    }
   ],
   "source": [
    "total_students = cs_df[\"Student ID\"].count()\n",
    "total_students\n",
    "\n",
    "#Calculate the total number of students"
   ]
  },
  {
   "cell_type": "code",
   "execution_count": 28,
   "id": "9bbe6f21-92c4-4e68-9337-8f35c8ad11c8",
   "metadata": {},
   "outputs": [
    {
     "data": {
      "text/plain": [
       "24649428"
      ]
     },
     "execution_count": 28,
     "metadata": {},
     "output_type": "execute_result"
    }
   ],
   "source": [
    "cs_budgets_only = cs_df.groupby(\"school_name\").budget.mean().sum()\n",
    "cs_budgets_only\n",
    "\n",
    "total_budget = cs_budgets_only.sum()\n",
    "total_budget\n",
    "\n",
    "# #Calculates the total budget"
   ]
  },
  {
   "cell_type": "code",
   "execution_count": null,
   "id": "d9ab2871-fc17-41d5-8212-804a6699fbc7",
   "metadata": {},
   "outputs": [],
   "source": []
  }
 ],
 "metadata": {
  "kernelspec": {
   "display_name": "Python 3",
   "language": "python",
   "name": "python3"
  },
  "language_info": {
   "codemirror_mode": {
    "name": "ipython",
    "version": 3
   },
   "file_extension": ".py",
   "mimetype": "text/x-python",
   "name": "python",
   "nbconvert_exporter": "python",
   "pygments_lexer": "ipython3",
   "version": "3.8.8"
  }
 },
 "nbformat": 4,
 "nbformat_minor": 5
}
