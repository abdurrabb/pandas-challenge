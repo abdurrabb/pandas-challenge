{
 "cells": [
  {
   "cell_type": "markdown",
   "id": "b176f239-e957-43a9-91a0-f89bf713b8de",
   "metadata": {
    "tags": []
   },
   "source": [
    "### Import Data and Establish Data Frame"
   ]
  },
  {
   "cell_type": "code",
   "execution_count": 1,
   "id": "a9dbdabe-5357-4117-b2a0-8ae086a632f2",
   "metadata": {},
   "outputs": [],
   "source": [
    "#PyCitySchools Practice Space\n",
    "import pandas as pd\n",
    "import numpy as np\n",
    "import matplotlib.pyplot as plt"
   ]
  },
  {
   "cell_type": "code",
   "execution_count": 2,
   "id": "7fb8c685-b5fb-4da6-bb6b-7e536ea7821f",
   "metadata": {},
   "outputs": [],
   "source": [
    "school_data_to_load = \"Resources/schools_complete.csv\"\n",
    "student_data_to_load = \"Resources/students_complete.csv\"\n",
    "\n",
    "# File to Load (Remember to Change These)\n",
    "\n",
    "school_data = pd.read_csv(school_data_to_load)\n",
    "student_data = pd.read_csv(student_data_to_load)\n",
    "\n",
    "# Read School and Student Data File and store into Pandas DataFrames"
   ]
  },
  {
   "cell_type": "code",
   "execution_count": 3,
   "id": "4c651ab8-f38b-47d3-8cce-ec6dd4105c03",
   "metadata": {},
   "outputs": [
    {
     "data": {
      "text/html": [
       "<div>\n",
       "<style scoped>\n",
       "    .dataframe tbody tr th:only-of-type {\n",
       "        vertical-align: middle;\n",
       "    }\n",
       "\n",
       "    .dataframe tbody tr th {\n",
       "        vertical-align: top;\n",
       "    }\n",
       "\n",
       "    .dataframe thead th {\n",
       "        text-align: right;\n",
       "    }\n",
       "</style>\n",
       "<table border=\"1\" class=\"dataframe\">\n",
       "  <thead>\n",
       "    <tr style=\"text-align: right;\">\n",
       "      <th></th>\n",
       "      <th>Student ID</th>\n",
       "      <th>student_name</th>\n",
       "      <th>gender</th>\n",
       "      <th>grade</th>\n",
       "      <th>school_name</th>\n",
       "      <th>reading_score</th>\n",
       "      <th>math_score</th>\n",
       "      <th>School ID</th>\n",
       "      <th>type</th>\n",
       "      <th>size</th>\n",
       "      <th>budget</th>\n",
       "    </tr>\n",
       "  </thead>\n",
       "  <tbody>\n",
       "    <tr>\n",
       "      <th>0</th>\n",
       "      <td>0</td>\n",
       "      <td>Paul Bradley</td>\n",
       "      <td>M</td>\n",
       "      <td>9th</td>\n",
       "      <td>Huang High School</td>\n",
       "      <td>66</td>\n",
       "      <td>79</td>\n",
       "      <td>0</td>\n",
       "      <td>District</td>\n",
       "      <td>2917</td>\n",
       "      <td>1910635</td>\n",
       "    </tr>\n",
       "    <tr>\n",
       "      <th>1</th>\n",
       "      <td>1</td>\n",
       "      <td>Victor Smith</td>\n",
       "      <td>M</td>\n",
       "      <td>12th</td>\n",
       "      <td>Huang High School</td>\n",
       "      <td>94</td>\n",
       "      <td>61</td>\n",
       "      <td>0</td>\n",
       "      <td>District</td>\n",
       "      <td>2917</td>\n",
       "      <td>1910635</td>\n",
       "    </tr>\n",
       "    <tr>\n",
       "      <th>2</th>\n",
       "      <td>2</td>\n",
       "      <td>Kevin Rodriguez</td>\n",
       "      <td>M</td>\n",
       "      <td>12th</td>\n",
       "      <td>Huang High School</td>\n",
       "      <td>90</td>\n",
       "      <td>60</td>\n",
       "      <td>0</td>\n",
       "      <td>District</td>\n",
       "      <td>2917</td>\n",
       "      <td>1910635</td>\n",
       "    </tr>\n",
       "    <tr>\n",
       "      <th>3</th>\n",
       "      <td>3</td>\n",
       "      <td>Dr. Richard Scott</td>\n",
       "      <td>M</td>\n",
       "      <td>12th</td>\n",
       "      <td>Huang High School</td>\n",
       "      <td>67</td>\n",
       "      <td>58</td>\n",
       "      <td>0</td>\n",
       "      <td>District</td>\n",
       "      <td>2917</td>\n",
       "      <td>1910635</td>\n",
       "    </tr>\n",
       "    <tr>\n",
       "      <th>4</th>\n",
       "      <td>4</td>\n",
       "      <td>Bonnie Ray</td>\n",
       "      <td>F</td>\n",
       "      <td>9th</td>\n",
       "      <td>Huang High School</td>\n",
       "      <td>97</td>\n",
       "      <td>84</td>\n",
       "      <td>0</td>\n",
       "      <td>District</td>\n",
       "      <td>2917</td>\n",
       "      <td>1910635</td>\n",
       "    </tr>\n",
       "  </tbody>\n",
       "</table>\n",
       "</div>"
      ],
      "text/plain": [
       "   Student ID       student_name gender grade        school_name  \\\n",
       "0           0       Paul Bradley      M   9th  Huang High School   \n",
       "1           1       Victor Smith      M  12th  Huang High School   \n",
       "2           2    Kevin Rodriguez      M  12th  Huang High School   \n",
       "3           3  Dr. Richard Scott      M  12th  Huang High School   \n",
       "4           4         Bonnie Ray      F   9th  Huang High School   \n",
       "\n",
       "   reading_score  math_score  School ID      type  size   budget  \n",
       "0             66          79          0  District  2917  1910635  \n",
       "1             94          61          0  District  2917  1910635  \n",
       "2             90          60          0  District  2917  1910635  \n",
       "3             67          58          0  District  2917  1910635  \n",
       "4             97          84          0  District  2917  1910635  "
      ]
     },
     "execution_count": 3,
     "metadata": {},
     "output_type": "execute_result"
    }
   ],
   "source": [
    "school_data_complete = pd.merge(student_data, school_data, how=\"left\", on=[\"school_name\"])\n",
    "\n",
    "# Combine the data into a single dataset.\n",
    "\n",
    "school_data_complete.head()\n",
    "\n",
    "# Verify dataset grab and merge successful #39,170 rows of data"
   ]
  },
  {
   "cell_type": "code",
   "execution_count": 4,
   "id": "91b9e743-eea8-4746-9c80-fa7766b4db3b",
   "metadata": {},
   "outputs": [],
   "source": [
    "cs_df = school_data_complete.copy()\n",
    "\n",
    "# Create copy of data set to preserve original data"
   ]
  },
  {
   "cell_type": "markdown",
   "id": "f501577c-dcae-42a4-882a-a1f745393994",
   "metadata": {},
   "source": [
    "### Organize District Summary Data"
   ]
  },
  {
   "cell_type": "code",
   "execution_count": 5,
   "id": "d46d9534-97a5-48fb-bb52-2b0ce91c1793",
   "metadata": {},
   "outputs": [
    {
     "data": {
      "text/plain": [
       "15"
      ]
     },
     "execution_count": 5,
     "metadata": {},
     "output_type": "execute_result"
    }
   ],
   "source": [
    "total_schools = cs_df.school_name.value_counts().count()\n",
    "total_schools\n",
    "\n",
    "# Calculate the total number of schools"
   ]
  },
  {
   "cell_type": "code",
   "execution_count": 6,
   "id": "7484bebc-59a8-4342-b760-730b8d311fd2",
   "metadata": {},
   "outputs": [
    {
     "data": {
      "text/plain": [
       "39170"
      ]
     },
     "execution_count": 6,
     "metadata": {},
     "output_type": "execute_result"
    }
   ],
   "source": [
    "total_students = cs_df[\"Student ID\"].count()\n",
    "total_students\n",
    "\n",
    "#Calculate the total number of students"
   ]
  },
  {
   "cell_type": "code",
   "execution_count": 7,
   "id": "9163f4c1-e536-4e01-95a2-1fef6825a932",
   "metadata": {},
   "outputs": [
    {
     "data": {
      "text/plain": [
       "2611.3333333333335"
      ]
     },
     "execution_count": 7,
     "metadata": {},
     "output_type": "execute_result"
    }
   ],
   "source": [
    "average_students = cs_df.groupby(\"school_name\")[\"Student ID\"].count().mean()\n",
    "average_students\n",
    "\n",
    "#Calculate the average number of students"
   ]
  },
  {
   "cell_type": "code",
   "execution_count": 8,
   "id": "9bbe6f21-92c4-4e68-9337-8f35c8ad11c8",
   "metadata": {},
   "outputs": [
    {
     "data": {
      "text/plain": [
       "24649428"
      ]
     },
     "execution_count": 8,
     "metadata": {},
     "output_type": "execute_result"
    }
   ],
   "source": [
    "total_budget = cs_df.groupby(\"school_name\").budget.mean().sum()\n",
    "total_budget\n",
    "\n",
    "# #Calculates the total budget"
   ]
  },
  {
   "cell_type": "code",
   "execution_count": 9,
   "id": "20aead89-5fc4-4b47-9e8a-eddf4e030c3b",
   "metadata": {},
   "outputs": [
    {
     "data": {
      "text/plain": [
       "1643295.2"
      ]
     },
     "execution_count": 9,
     "metadata": {},
     "output_type": "execute_result"
    }
   ],
   "source": [
    "average_budget = cs_df.groupby(\"school_name\").budget.mean().mean()\n",
    "average_budget\n",
    "\n",
    "# #Calculates the average budget"
   ]
  },
  {
   "cell_type": "code",
   "execution_count": 10,
   "id": "d9ab2871-fc17-41d5-8212-804a6699fbc7",
   "metadata": {},
   "outputs": [
    {
     "data": {
      "text/plain": [
       "78.98537145774827"
      ]
     },
     "execution_count": 10,
     "metadata": {},
     "output_type": "execute_result"
    }
   ],
   "source": [
    "avg_math = cs_df.math_score.mean()\n",
    "avg_math\n",
    "\n",
    "#Calculates the average math score"
   ]
  },
  {
   "cell_type": "code",
   "execution_count": 11,
   "id": "b4ae6b66-1349-4fb6-adce-c1c8c312ca85",
   "metadata": {},
   "outputs": [
    {
     "data": {
      "text/plain": [
       "81.87784018381414"
      ]
     },
     "execution_count": 11,
     "metadata": {},
     "output_type": "execute_result"
    }
   ],
   "source": [
    "avg_read = cs_df.reading_score.mean()\n",
    "avg_read\n",
    "\n",
    "#Calculates the average reading score"
   ]
  },
  {
   "cell_type": "code",
   "execution_count": 12,
   "id": "90035e97-38c8-479d-bca5-d6ab019fd120",
   "metadata": {},
   "outputs": [],
   "source": [
    "pass_math = cs_df.loc[cs_df[\"math_score\"]>=70,:]\n",
    "# pass_math /SUCCESS\n",
    "\n",
    "pass_read = cs_df.loc[cs_df[\"reading_score\"]>=70,:]\n",
    "# pass_read /SUCCESS\n",
    "\n",
    "pass_math_read = cs_df.loc[(cs_df[\"math_score\"]>=70) & (cs_df[\"reading_score\"]>=70),:]\n",
    "# pass_math_read /SUCCESS\n",
    "\n",
    "# LIST ONLY STUDENTS WHO'VE EARNED 70 OR HIGHER IN math / reading / and both"
   ]
  },
  {
   "cell_type": "code",
   "execution_count": 13,
   "id": "5ad4438d-e216-4a7f-b0c2-872e8b9d2140",
   "metadata": {},
   "outputs": [
    {
     "data": {
      "text/plain": [
       "74.9808526933878"
      ]
     },
     "execution_count": 13,
     "metadata": {},
     "output_type": "execute_result"
    }
   ],
   "source": [
    "prc_pass_math = len(pass_math)/len(cs_df)*100 \n",
    "prc_pass_math\n",
    "\n",
    "#Calculate the percentage of students with a passing math score (70 or greater)"
   ]
  },
  {
   "cell_type": "code",
   "execution_count": 14,
   "id": "ace130d2-2bca-4cc8-80af-496af5bee11f",
   "metadata": {},
   "outputs": [
    {
     "data": {
      "text/plain": [
       "85.80546336482001"
      ]
     },
     "execution_count": 14,
     "metadata": {},
     "output_type": "execute_result"
    }
   ],
   "source": [
    "prc_pass_read = len(pass_read)/len(cs_df)*100  \n",
    "prc_pass_read\n",
    "\n",
    "#Calculate the percentage of students with a passing math score (70 or greater)"
   ]
  },
  {
   "cell_type": "code",
   "execution_count": 15,
   "id": "377c09bf-7857-4b4f-80e1-43d87553cba4",
   "metadata": {},
   "outputs": [
    {
     "data": {
      "text/plain": [
       "65.17232575950983"
      ]
     },
     "execution_count": 15,
     "metadata": {},
     "output_type": "execute_result"
    }
   ],
   "source": [
    "prc_pass_math_read = len(pass_math_read)/len(cs_df)*100 \n",
    "prc_pass_math_read\n",
    "\n",
    "#Calculate the percentage of students who passed math and reading (% Overall Passing)"
   ]
  },
  {
   "cell_type": "markdown",
   "id": "6e0bcd72-88df-449d-b52e-f2485fea6d5a",
   "metadata": {
    "tags": []
   },
   "source": [
    "### Establish Style Dictionary"
   ]
  },
  {
   "cell_type": "code",
   "execution_count": 49,
   "id": "9d49cd03-35c4-4fd1-b63c-19a0a7146892",
   "metadata": {},
   "outputs": [],
   "source": [
    "style_dict = {\n",
    "    \"Total Students\": \"{:,}\", \n",
    "    \"Total Budget\": \"${:,}\",\n",
    "    \"Per Student Budget\":\"${:,}\",\n",
    "    \"Average Math\": \"{:.1f}\", \n",
    "    \"math_score\": \"{:.1f}\",\n",
    "    \"reading_score\": \"{:.1f}\", \n",
    "    \"Average Reading\": \"{:.1f}\",\n",
    "    \"% Passing Math\": \"{:.1f}%\",\n",
    "    \"% Passing Reading\": \"{:.1f}%\",\n",
    "    \"% Passing Overall\": \"{:.1f}%\",\n",
    "    \"Student % Budget\":\"{:.2f}%\",\n",
    "    \"9th\": \"{:.1f}\",\n",
    "    \"10th\": \"{:.1f}\",\n",
    "    \"11th\": \"{:.1f}\",\n",
    "    \"12th\": \"{:.1f}\"\n",
    "}"
   ]
  },
  {
   "cell_type": "markdown",
   "id": "0bd3b8aa-5e80-41b9-a01e-223cce57da29",
   "metadata": {
    "tags": []
   },
   "source": [
    "# District Summary Table"
   ]
  },
  {
   "cell_type": "code",
   "execution_count": 17,
   "id": "1524b211-5049-4fc3-8e6a-3b0fdccc494d",
   "metadata": {
    "tags": []
   },
   "outputs": [
    {
     "data": {
      "text/html": [
       "<style  type=\"text/css\" >\n",
       "</style><table id=\"T_639e6_\" ><thead>    <tr>        <th class=\"blank level0\" ></th>        <th class=\"col_heading level0 col0\" >Total Schools</th>        <th class=\"col_heading level0 col1\" >Total Students</th>        <th class=\"col_heading level0 col2\" >Total Budget</th>        <th class=\"col_heading level0 col3\" >Average Math</th>        <th class=\"col_heading level0 col4\" >Average Reading</th>        <th class=\"col_heading level0 col5\" >% Passing Math</th>        <th class=\"col_heading level0 col6\" >% Passing Reading</th>        <th class=\"col_heading level0 col7\" >% Passing Overall</th>    </tr></thead><tbody>\n",
       "                <tr>\n",
       "                        <th id=\"T_639e6_level0_row0\" class=\"row_heading level0 row0\" >0</th>\n",
       "                        <td id=\"T_639e6_row0_col0\" class=\"data row0 col0\" >15</td>\n",
       "                        <td id=\"T_639e6_row0_col1\" class=\"data row0 col1\" >39,170</td>\n",
       "                        <td id=\"T_639e6_row0_col2\" class=\"data row0 col2\" >$24,649,428</td>\n",
       "                        <td id=\"T_639e6_row0_col3\" class=\"data row0 col3\" >79.0</td>\n",
       "                        <td id=\"T_639e6_row0_col4\" class=\"data row0 col4\" >81.9</td>\n",
       "                        <td id=\"T_639e6_row0_col5\" class=\"data row0 col5\" >75.0%</td>\n",
       "                        <td id=\"T_639e6_row0_col6\" class=\"data row0 col6\" >85.8%</td>\n",
       "                        <td id=\"T_639e6_row0_col7\" class=\"data row0 col7\" >65.2%</td>\n",
       "            </tr>\n",
       "    </tbody></table>"
      ],
      "text/plain": [
       "<pandas.io.formats.style.Styler at 0x7fd3186f1d60>"
      ]
     },
     "execution_count": 17,
     "metadata": {},
     "output_type": "execute_result"
    }
   ],
   "source": [
    "district_dx =[{\"Total Schools\":total_schools,\"Total Students\":total_students,\"Total Budget\":total_budget,\"Average Math\":avg_math,\"Average Reading\":avg_read,\n",
    "                 \"% Passing Math\":prc_pass_math,\"% Passing Reading\":prc_pass_read,\"% Passing Overall\":prc_pass_math_read\n",
    "                }]\n",
    "#create a dictionary of key items\n",
    "\n",
    "district_df = pd.DataFrame(district_dx)\n",
    "district_df.style.format(style_dict)\n",
    "#Create a dataframe to hold results and deliver results cleanly"
   ]
  },
  {
   "cell_type": "markdown",
   "id": "91e5f9fa-60e3-4338-8576-34d727cbfba6",
   "metadata": {
    "tags": []
   },
   "source": [
    "### Organize School Summary Data"
   ]
  },
  {
   "cell_type": "code",
   "execution_count": 18,
   "id": "a76c4ebe-6dfa-4c3b-ab0c-47880602db63",
   "metadata": {},
   "outputs": [
    {
     "data": {
      "text/plain": [
       "school_name\n",
       "Bailey High School       District\n",
       "Cabrera High School       Charter\n",
       "Figueroa High School     District\n",
       "Ford High School         District\n",
       "Griffin High School       Charter\n",
       "Hernandez High School    District\n",
       "Holden High School        Charter\n",
       "Huang High School        District\n",
       "Johnson High School      District\n",
       "Pena High School          Charter\n",
       "Rodriguez High School    District\n",
       "Shelton High School       Charter\n",
       "Thomas High School        Charter\n",
       "Wilson High School        Charter\n",
       "Wright High School        Charter\n",
       "Name: type, dtype: object"
      ]
     },
     "execution_count": 18,
     "metadata": {},
     "output_type": "execute_result"
    }
   ],
   "source": [
    "school_type = cs_df.groupby(\"school_name\")[\"type\"].max()\n",
    "school_type\n",
    "\n",
    "#Identify School Types"
   ]
  },
  {
   "cell_type": "code",
   "execution_count": 19,
   "id": "00040a47-3384-4dfd-989a-df477558268a",
   "metadata": {},
   "outputs": [
    {
     "data": {
      "text/plain": [
       "school_name\n",
       "Bailey High School       4976\n",
       "Cabrera High School      1858\n",
       "Figueroa High School     2949\n",
       "Ford High School         2739\n",
       "Griffin High School      1468\n",
       "Hernandez High School    4635\n",
       "Holden High School        427\n",
       "Huang High School        2917\n",
       "Johnson High School      4761\n",
       "Pena High School          962\n",
       "Rodriguez High School    3999\n",
       "Shelton High School      1761\n",
       "Thomas High School       1635\n",
       "Wilson High School       2283\n",
       "Wright High School       1800\n",
       "Name: Student ID, dtype: int64"
      ]
     },
     "execution_count": 19,
     "metadata": {},
     "output_type": "execute_result"
    }
   ],
   "source": [
    "school_students = cs_df.groupby(\"school_name\")[\"Student ID\"].count()\n",
    "school_students\n",
    "\n",
    "#Identify School Students"
   ]
  },
  {
   "cell_type": "code",
   "execution_count": 20,
   "id": "67edf100-259b-43a4-919e-1094563ebea3",
   "metadata": {},
   "outputs": [
    {
     "data": {
      "text/plain": [
       "school_name\n",
       "Bailey High School       81.033963\n",
       "Cabrera High School      83.975780\n",
       "Figueroa High School     81.158020\n",
       "Ford High School         80.746258\n",
       "Griffin High School      83.816757\n",
       "Hernandez High School    80.934412\n",
       "Holden High School       83.814988\n",
       "Huang High School        81.182722\n",
       "Johnson High School      80.966394\n",
       "Pena High School         84.044699\n",
       "Rodriguez High School    80.744686\n",
       "Shelton High School      83.725724\n",
       "Thomas High School       83.848930\n",
       "Wilson High School       83.989488\n",
       "Wright High School       83.955000\n",
       "Name: reading_score, dtype: float64"
      ]
     },
     "execution_count": 20,
     "metadata": {},
     "output_type": "execute_result"
    }
   ],
   "source": [
    "school_read_avg = cs_df.groupby(\"school_name\")[\"reading_score\"].mean()\n",
    "school_read_avg\n",
    "\n",
    "#Identify School Reading Average"
   ]
  },
  {
   "cell_type": "code",
   "execution_count": 21,
   "id": "c530e533-c157-49c2-bf57-ec100a753d34",
   "metadata": {},
   "outputs": [
    {
     "data": {
      "text/plain": [
       "school_name\n",
       "Bailey High School       77.048432\n",
       "Cabrera High School      83.061895\n",
       "Figueroa High School     76.711767\n",
       "Ford High School         77.102592\n",
       "Griffin High School      83.351499\n",
       "Hernandez High School    77.289752\n",
       "Holden High School       83.803279\n",
       "Huang High School        76.629414\n",
       "Johnson High School      77.072464\n",
       "Pena High School         83.839917\n",
       "Rodriguez High School    76.842711\n",
       "Shelton High School      83.359455\n",
       "Thomas High School       83.418349\n",
       "Wilson High School       83.274201\n",
       "Wright High School       83.682222\n",
       "Name: math_score, dtype: float64"
      ]
     },
     "execution_count": 21,
     "metadata": {},
     "output_type": "execute_result"
    }
   ],
   "source": [
    "school_math_avg = cs_df.groupby(\"school_name\")[\"math_score\"].mean()\n",
    "school_math_avg\n",
    "\n",
    "#Identify School Math Average"
   ]
  },
  {
   "cell_type": "code",
   "execution_count": 22,
   "id": "cd81915e-fe20-4152-b8fc-25ac9b9471cd",
   "metadata": {},
   "outputs": [
    {
     "data": {
      "text/plain": [
       "school_name\n",
       "Bailey High School       66.680064\n",
       "Cabrera High School      94.133477\n",
       "Figueroa High School     65.988471\n",
       "Ford High School         68.309602\n",
       "Griffin High School      93.392371\n",
       "Hernandez High School    66.752967\n",
       "Holden High School       92.505855\n",
       "Huang High School        65.683922\n",
       "Johnson High School      66.057551\n",
       "Pena High School         94.594595\n",
       "Rodriguez High School    66.366592\n",
       "Shelton High School      93.867121\n",
       "Thomas High School       93.272171\n",
       "Wilson High School       93.867718\n",
       "Wright High School       93.333333\n",
       "dtype: float64"
      ]
     },
     "execution_count": 22,
     "metadata": {},
     "output_type": "execute_result"
    }
   ],
   "source": [
    "school_pass_math = pass_math.groupby(\"school_name\")[\"math_score\"].count()\n",
    "school_pass_math\n",
    "\n",
    "school_prc_pass_math = (school_pass_math/school_students)*100 \n",
    "school_prc_pass_math\n",
    "\n",
    "#Identify School % Passing Math"
   ]
  },
  {
   "cell_type": "code",
   "execution_count": 23,
   "id": "7fdc520d-e992-4bfc-ad9a-37b36811275e",
   "metadata": {},
   "outputs": [
    {
     "data": {
      "text/plain": [
       "school_name\n",
       "Bailey High School       81.933280\n",
       "Cabrera High School      97.039828\n",
       "Figueroa High School     80.739234\n",
       "Ford High School         79.299014\n",
       "Griffin High School      97.138965\n",
       "Hernandez High School    80.862999\n",
       "Holden High School       96.252927\n",
       "Huang High School        81.316421\n",
       "Johnson High School      81.222432\n",
       "Pena High School         95.945946\n",
       "Rodriguez High School    80.220055\n",
       "Shelton High School      95.854628\n",
       "Thomas High School       97.308869\n",
       "Wilson High School       96.539641\n",
       "Wright High School       96.611111\n",
       "dtype: float64"
      ]
     },
     "execution_count": 23,
     "metadata": {},
     "output_type": "execute_result"
    }
   ],
   "source": [
    "school_pass_read = pass_read.groupby(\"school_name\")[\"reading_score\"].count()\n",
    "school_pass_read\n",
    "\n",
    "school_prc_pass_read = (school_pass_read/school_students)*100 \n",
    "school_prc_pass_read\n",
    "\n",
    "#Identify School % Passing Reading"
   ]
  },
  {
   "cell_type": "code",
   "execution_count": 24,
   "id": "09c68397-33d5-42f7-9362-028c015c19ea",
   "metadata": {},
   "outputs": [
    {
     "data": {
      "text/plain": [
       "school_name\n",
       "Bailey High School       54.642283\n",
       "Cabrera High School      91.334769\n",
       "Figueroa High School     53.204476\n",
       "Ford High School         54.289887\n",
       "Griffin High School      90.599455\n",
       "Hernandez High School    53.527508\n",
       "Holden High School       89.227166\n",
       "Huang High School        53.513884\n",
       "Johnson High School      53.539172\n",
       "Pena High School         90.540541\n",
       "Rodriguez High School    52.988247\n",
       "Shelton High School      89.892107\n",
       "Thomas High School       90.948012\n",
       "Wilson High School       90.582567\n",
       "Wright High School       90.333333\n",
       "dtype: float64"
      ]
     },
     "execution_count": 24,
     "metadata": {},
     "output_type": "execute_result"
    }
   ],
   "source": [
    "school_pass_read_math = cs_df.loc[(cs_df[\"math_score\"]>=70) & (cs_df[\"reading_score\"]>=70),:].groupby(\"school_name\")[\"grade\"].count()\n",
    "school_pass_read_math\n",
    "\n",
    "school_prc_pass_read_math = (school_pass_read_math/school_students)*100 \n",
    "school_prc_pass_read_math\n",
    "\n",
    "#Identify School % Overall Passing"
   ]
  },
  {
   "cell_type": "code",
   "execution_count": 25,
   "id": "1be7579b-5931-443e-8e67-0395c7b58e39",
   "metadata": {},
   "outputs": [
    {
     "data": {
      "text/plain": [
       "school_name\n",
       "Bailey High School       3124928\n",
       "Cabrera High School      1081356\n",
       "Figueroa High School     1884411\n",
       "Ford High School         1763916\n",
       "Griffin High School       917500\n",
       "Hernandez High School    3022020\n",
       "Holden High School        248087\n",
       "Huang High School        1910635\n",
       "Johnson High School      3094650\n",
       "Pena High School          585858\n",
       "Rodriguez High School    2547363\n",
       "Shelton High School      1056600\n",
       "Thomas High School       1043130\n",
       "Wilson High School       1319574\n",
       "Wright High School       1049400\n",
       "Name: budget, dtype: int64"
      ]
     },
     "execution_count": 25,
     "metadata": {},
     "output_type": "execute_result"
    }
   ],
   "source": [
    "school_budget = cs_df.groupby(\"school_name\")[\"budget\"].mean()\n",
    "school_budget\n",
    "\n",
    "#Identify School Total Budget"
   ]
  },
  {
   "cell_type": "code",
   "execution_count": 26,
   "id": "48a8a590-3fde-4360-a7be-e962f9400520",
   "metadata": {},
   "outputs": [
    {
     "data": {
      "text/plain": [
       "1643295.2"
      ]
     },
     "execution_count": 26,
     "metadata": {},
     "output_type": "execute_result"
    }
   ],
   "source": [
    "school_average_budget = cs_df.groupby(\"school_name\")[\"budget\"].mean().mean()\n",
    "school_average_budget\n",
    "\n",
    "#Identify Average School Budget"
   ]
  },
  {
   "cell_type": "code",
   "execution_count": 27,
   "id": "64f207ee-b071-4c82-be8c-93b3828ccb3a",
   "metadata": {},
   "outputs": [
    {
     "data": {
      "text/plain": [
       "school_name\n",
       "Bailey High School       628.0\n",
       "Cabrera High School      582.0\n",
       "Figueroa High School     639.0\n",
       "Ford High School         644.0\n",
       "Griffin High School      625.0\n",
       "Hernandez High School    652.0\n",
       "Holden High School       581.0\n",
       "Huang High School        655.0\n",
       "Johnson High School      650.0\n",
       "Pena High School         609.0\n",
       "Rodriguez High School    637.0\n",
       "Shelton High School      600.0\n",
       "Thomas High School       638.0\n",
       "Wilson High School       578.0\n",
       "Wright High School       583.0\n",
       "dtype: float64"
      ]
     },
     "execution_count": 27,
     "metadata": {},
     "output_type": "execute_result"
    }
   ],
   "source": [
    "school_budget_per_student = (school_budget/school_students)\n",
    "school_budget_per_student\n",
    "\n",
    "#Identify School Per Student Budget"
   ]
  },
  {
   "cell_type": "code",
   "execution_count": 28,
   "id": "ffb31991-7f25-4011-836a-2a4376b47bd7",
   "metadata": {},
   "outputs": [
    {
     "data": {
      "text/plain": [
       "620.0666666666667"
      ]
     },
     "execution_count": 28,
     "metadata": {},
     "output_type": "execute_result"
    }
   ],
   "source": [
    "school_average_per = (school_budget/school_students).mean()\n",
    "school_average_per\n",
    "\n",
    "#Identify School Per Student Budget"
   ]
  },
  {
   "cell_type": "markdown",
   "id": "1e79419a-8aca-4df6-b90f-268ae215a6f7",
   "metadata": {
    "tags": []
   },
   "source": [
    "# School Summary Data"
   ]
  },
  {
   "cell_type": "code",
   "execution_count": 29,
   "id": "5a8fda8b-cf17-4c12-b7f6-e5019c752808",
   "metadata": {
    "tags": []
   },
   "outputs": [
    {
     "data": {
      "text/html": [
       "<style  type=\"text/css\" >\n",
       "</style><table id=\"T_aff2e_\" ><thead>    <tr>        <th class=\"blank level0\" ></th>        <th class=\"col_heading level0 col0\" >School Type</th>        <th class=\"col_heading level0 col1\" >Total Students</th>        <th class=\"col_heading level0 col2\" >Total Budget</th>        <th class=\"col_heading level0 col3\" >Per Student Budget</th>        <th class=\"col_heading level0 col4\" >Average Math</th>        <th class=\"col_heading level0 col5\" >Average Reading</th>        <th class=\"col_heading level0 col6\" >% Passing Math</th>        <th class=\"col_heading level0 col7\" >% Passing Reading</th>        <th class=\"col_heading level0 col8\" >% Passing Overall</th>    </tr>    <tr>        <th class=\"index_name level0\" ></th>        <th class=\"blank\" ></th>        <th class=\"blank\" ></th>        <th class=\"blank\" ></th>        <th class=\"blank\" ></th>        <th class=\"blank\" ></th>        <th class=\"blank\" ></th>        <th class=\"blank\" ></th>        <th class=\"blank\" ></th>        <th class=\"blank\" ></th>    </tr></thead><tbody>\n",
       "                <tr>\n",
       "                        <th id=\"T_aff2e_level0_row0\" class=\"row_heading level0 row0\" >Bailey High School</th>\n",
       "                        <td id=\"T_aff2e_row0_col0\" class=\"data row0 col0\" >District</td>\n",
       "                        <td id=\"T_aff2e_row0_col1\" class=\"data row0 col1\" >4,976</td>\n",
       "                        <td id=\"T_aff2e_row0_col2\" class=\"data row0 col2\" >$3,124,928</td>\n",
       "                        <td id=\"T_aff2e_row0_col3\" class=\"data row0 col3\" >$628.0</td>\n",
       "                        <td id=\"T_aff2e_row0_col4\" class=\"data row0 col4\" >77.0</td>\n",
       "                        <td id=\"T_aff2e_row0_col5\" class=\"data row0 col5\" >81.0</td>\n",
       "                        <td id=\"T_aff2e_row0_col6\" class=\"data row0 col6\" >66.7%</td>\n",
       "                        <td id=\"T_aff2e_row0_col7\" class=\"data row0 col7\" >81.9%</td>\n",
       "                        <td id=\"T_aff2e_row0_col8\" class=\"data row0 col8\" >54.6%</td>\n",
       "            </tr>\n",
       "            <tr>\n",
       "                        <th id=\"T_aff2e_level0_row1\" class=\"row_heading level0 row1\" >Cabrera High School</th>\n",
       "                        <td id=\"T_aff2e_row1_col0\" class=\"data row1 col0\" >Charter</td>\n",
       "                        <td id=\"T_aff2e_row1_col1\" class=\"data row1 col1\" >1,858</td>\n",
       "                        <td id=\"T_aff2e_row1_col2\" class=\"data row1 col2\" >$1,081,356</td>\n",
       "                        <td id=\"T_aff2e_row1_col3\" class=\"data row1 col3\" >$582.0</td>\n",
       "                        <td id=\"T_aff2e_row1_col4\" class=\"data row1 col4\" >83.1</td>\n",
       "                        <td id=\"T_aff2e_row1_col5\" class=\"data row1 col5\" >84.0</td>\n",
       "                        <td id=\"T_aff2e_row1_col6\" class=\"data row1 col6\" >94.1%</td>\n",
       "                        <td id=\"T_aff2e_row1_col7\" class=\"data row1 col7\" >97.0%</td>\n",
       "                        <td id=\"T_aff2e_row1_col8\" class=\"data row1 col8\" >91.3%</td>\n",
       "            </tr>\n",
       "            <tr>\n",
       "                        <th id=\"T_aff2e_level0_row2\" class=\"row_heading level0 row2\" >Figueroa High School</th>\n",
       "                        <td id=\"T_aff2e_row2_col0\" class=\"data row2 col0\" >District</td>\n",
       "                        <td id=\"T_aff2e_row2_col1\" class=\"data row2 col1\" >2,949</td>\n",
       "                        <td id=\"T_aff2e_row2_col2\" class=\"data row2 col2\" >$1,884,411</td>\n",
       "                        <td id=\"T_aff2e_row2_col3\" class=\"data row2 col3\" >$639.0</td>\n",
       "                        <td id=\"T_aff2e_row2_col4\" class=\"data row2 col4\" >76.7</td>\n",
       "                        <td id=\"T_aff2e_row2_col5\" class=\"data row2 col5\" >81.2</td>\n",
       "                        <td id=\"T_aff2e_row2_col6\" class=\"data row2 col6\" >66.0%</td>\n",
       "                        <td id=\"T_aff2e_row2_col7\" class=\"data row2 col7\" >80.7%</td>\n",
       "                        <td id=\"T_aff2e_row2_col8\" class=\"data row2 col8\" >53.2%</td>\n",
       "            </tr>\n",
       "            <tr>\n",
       "                        <th id=\"T_aff2e_level0_row3\" class=\"row_heading level0 row3\" >Ford High School</th>\n",
       "                        <td id=\"T_aff2e_row3_col0\" class=\"data row3 col0\" >District</td>\n",
       "                        <td id=\"T_aff2e_row3_col1\" class=\"data row3 col1\" >2,739</td>\n",
       "                        <td id=\"T_aff2e_row3_col2\" class=\"data row3 col2\" >$1,763,916</td>\n",
       "                        <td id=\"T_aff2e_row3_col3\" class=\"data row3 col3\" >$644.0</td>\n",
       "                        <td id=\"T_aff2e_row3_col4\" class=\"data row3 col4\" >77.1</td>\n",
       "                        <td id=\"T_aff2e_row3_col5\" class=\"data row3 col5\" >80.7</td>\n",
       "                        <td id=\"T_aff2e_row3_col6\" class=\"data row3 col6\" >68.3%</td>\n",
       "                        <td id=\"T_aff2e_row3_col7\" class=\"data row3 col7\" >79.3%</td>\n",
       "                        <td id=\"T_aff2e_row3_col8\" class=\"data row3 col8\" >54.3%</td>\n",
       "            </tr>\n",
       "            <tr>\n",
       "                        <th id=\"T_aff2e_level0_row4\" class=\"row_heading level0 row4\" >Griffin High School</th>\n",
       "                        <td id=\"T_aff2e_row4_col0\" class=\"data row4 col0\" >Charter</td>\n",
       "                        <td id=\"T_aff2e_row4_col1\" class=\"data row4 col1\" >1,468</td>\n",
       "                        <td id=\"T_aff2e_row4_col2\" class=\"data row4 col2\" >$917,500</td>\n",
       "                        <td id=\"T_aff2e_row4_col3\" class=\"data row4 col3\" >$625.0</td>\n",
       "                        <td id=\"T_aff2e_row4_col4\" class=\"data row4 col4\" >83.4</td>\n",
       "                        <td id=\"T_aff2e_row4_col5\" class=\"data row4 col5\" >83.8</td>\n",
       "                        <td id=\"T_aff2e_row4_col6\" class=\"data row4 col6\" >93.4%</td>\n",
       "                        <td id=\"T_aff2e_row4_col7\" class=\"data row4 col7\" >97.1%</td>\n",
       "                        <td id=\"T_aff2e_row4_col8\" class=\"data row4 col8\" >90.6%</td>\n",
       "            </tr>\n",
       "            <tr>\n",
       "                        <th id=\"T_aff2e_level0_row5\" class=\"row_heading level0 row5\" >Hernandez High School</th>\n",
       "                        <td id=\"T_aff2e_row5_col0\" class=\"data row5 col0\" >District</td>\n",
       "                        <td id=\"T_aff2e_row5_col1\" class=\"data row5 col1\" >4,635</td>\n",
       "                        <td id=\"T_aff2e_row5_col2\" class=\"data row5 col2\" >$3,022,020</td>\n",
       "                        <td id=\"T_aff2e_row5_col3\" class=\"data row5 col3\" >$652.0</td>\n",
       "                        <td id=\"T_aff2e_row5_col4\" class=\"data row5 col4\" >77.3</td>\n",
       "                        <td id=\"T_aff2e_row5_col5\" class=\"data row5 col5\" >80.9</td>\n",
       "                        <td id=\"T_aff2e_row5_col6\" class=\"data row5 col6\" >66.8%</td>\n",
       "                        <td id=\"T_aff2e_row5_col7\" class=\"data row5 col7\" >80.9%</td>\n",
       "                        <td id=\"T_aff2e_row5_col8\" class=\"data row5 col8\" >53.5%</td>\n",
       "            </tr>\n",
       "            <tr>\n",
       "                        <th id=\"T_aff2e_level0_row6\" class=\"row_heading level0 row6\" >Holden High School</th>\n",
       "                        <td id=\"T_aff2e_row6_col0\" class=\"data row6 col0\" >Charter</td>\n",
       "                        <td id=\"T_aff2e_row6_col1\" class=\"data row6 col1\" >427</td>\n",
       "                        <td id=\"T_aff2e_row6_col2\" class=\"data row6 col2\" >$248,087</td>\n",
       "                        <td id=\"T_aff2e_row6_col3\" class=\"data row6 col3\" >$581.0</td>\n",
       "                        <td id=\"T_aff2e_row6_col4\" class=\"data row6 col4\" >83.8</td>\n",
       "                        <td id=\"T_aff2e_row6_col5\" class=\"data row6 col5\" >83.8</td>\n",
       "                        <td id=\"T_aff2e_row6_col6\" class=\"data row6 col6\" >92.5%</td>\n",
       "                        <td id=\"T_aff2e_row6_col7\" class=\"data row6 col7\" >96.3%</td>\n",
       "                        <td id=\"T_aff2e_row6_col8\" class=\"data row6 col8\" >89.2%</td>\n",
       "            </tr>\n",
       "            <tr>\n",
       "                        <th id=\"T_aff2e_level0_row7\" class=\"row_heading level0 row7\" >Huang High School</th>\n",
       "                        <td id=\"T_aff2e_row7_col0\" class=\"data row7 col0\" >District</td>\n",
       "                        <td id=\"T_aff2e_row7_col1\" class=\"data row7 col1\" >2,917</td>\n",
       "                        <td id=\"T_aff2e_row7_col2\" class=\"data row7 col2\" >$1,910,635</td>\n",
       "                        <td id=\"T_aff2e_row7_col3\" class=\"data row7 col3\" >$655.0</td>\n",
       "                        <td id=\"T_aff2e_row7_col4\" class=\"data row7 col4\" >76.6</td>\n",
       "                        <td id=\"T_aff2e_row7_col5\" class=\"data row7 col5\" >81.2</td>\n",
       "                        <td id=\"T_aff2e_row7_col6\" class=\"data row7 col6\" >65.7%</td>\n",
       "                        <td id=\"T_aff2e_row7_col7\" class=\"data row7 col7\" >81.3%</td>\n",
       "                        <td id=\"T_aff2e_row7_col8\" class=\"data row7 col8\" >53.5%</td>\n",
       "            </tr>\n",
       "            <tr>\n",
       "                        <th id=\"T_aff2e_level0_row8\" class=\"row_heading level0 row8\" >Johnson High School</th>\n",
       "                        <td id=\"T_aff2e_row8_col0\" class=\"data row8 col0\" >District</td>\n",
       "                        <td id=\"T_aff2e_row8_col1\" class=\"data row8 col1\" >4,761</td>\n",
       "                        <td id=\"T_aff2e_row8_col2\" class=\"data row8 col2\" >$3,094,650</td>\n",
       "                        <td id=\"T_aff2e_row8_col3\" class=\"data row8 col3\" >$650.0</td>\n",
       "                        <td id=\"T_aff2e_row8_col4\" class=\"data row8 col4\" >77.1</td>\n",
       "                        <td id=\"T_aff2e_row8_col5\" class=\"data row8 col5\" >81.0</td>\n",
       "                        <td id=\"T_aff2e_row8_col6\" class=\"data row8 col6\" >66.1%</td>\n",
       "                        <td id=\"T_aff2e_row8_col7\" class=\"data row8 col7\" >81.2%</td>\n",
       "                        <td id=\"T_aff2e_row8_col8\" class=\"data row8 col8\" >53.5%</td>\n",
       "            </tr>\n",
       "            <tr>\n",
       "                        <th id=\"T_aff2e_level0_row9\" class=\"row_heading level0 row9\" >Pena High School</th>\n",
       "                        <td id=\"T_aff2e_row9_col0\" class=\"data row9 col0\" >Charter</td>\n",
       "                        <td id=\"T_aff2e_row9_col1\" class=\"data row9 col1\" >962</td>\n",
       "                        <td id=\"T_aff2e_row9_col2\" class=\"data row9 col2\" >$585,858</td>\n",
       "                        <td id=\"T_aff2e_row9_col3\" class=\"data row9 col3\" >$609.0</td>\n",
       "                        <td id=\"T_aff2e_row9_col4\" class=\"data row9 col4\" >83.8</td>\n",
       "                        <td id=\"T_aff2e_row9_col5\" class=\"data row9 col5\" >84.0</td>\n",
       "                        <td id=\"T_aff2e_row9_col6\" class=\"data row9 col6\" >94.6%</td>\n",
       "                        <td id=\"T_aff2e_row9_col7\" class=\"data row9 col7\" >95.9%</td>\n",
       "                        <td id=\"T_aff2e_row9_col8\" class=\"data row9 col8\" >90.5%</td>\n",
       "            </tr>\n",
       "            <tr>\n",
       "                        <th id=\"T_aff2e_level0_row10\" class=\"row_heading level0 row10\" >Rodriguez High School</th>\n",
       "                        <td id=\"T_aff2e_row10_col0\" class=\"data row10 col0\" >District</td>\n",
       "                        <td id=\"T_aff2e_row10_col1\" class=\"data row10 col1\" >3,999</td>\n",
       "                        <td id=\"T_aff2e_row10_col2\" class=\"data row10 col2\" >$2,547,363</td>\n",
       "                        <td id=\"T_aff2e_row10_col3\" class=\"data row10 col3\" >$637.0</td>\n",
       "                        <td id=\"T_aff2e_row10_col4\" class=\"data row10 col4\" >76.8</td>\n",
       "                        <td id=\"T_aff2e_row10_col5\" class=\"data row10 col5\" >80.7</td>\n",
       "                        <td id=\"T_aff2e_row10_col6\" class=\"data row10 col6\" >66.4%</td>\n",
       "                        <td id=\"T_aff2e_row10_col7\" class=\"data row10 col7\" >80.2%</td>\n",
       "                        <td id=\"T_aff2e_row10_col8\" class=\"data row10 col8\" >53.0%</td>\n",
       "            </tr>\n",
       "            <tr>\n",
       "                        <th id=\"T_aff2e_level0_row11\" class=\"row_heading level0 row11\" >Shelton High School</th>\n",
       "                        <td id=\"T_aff2e_row11_col0\" class=\"data row11 col0\" >Charter</td>\n",
       "                        <td id=\"T_aff2e_row11_col1\" class=\"data row11 col1\" >1,761</td>\n",
       "                        <td id=\"T_aff2e_row11_col2\" class=\"data row11 col2\" >$1,056,600</td>\n",
       "                        <td id=\"T_aff2e_row11_col3\" class=\"data row11 col3\" >$600.0</td>\n",
       "                        <td id=\"T_aff2e_row11_col4\" class=\"data row11 col4\" >83.4</td>\n",
       "                        <td id=\"T_aff2e_row11_col5\" class=\"data row11 col5\" >83.7</td>\n",
       "                        <td id=\"T_aff2e_row11_col6\" class=\"data row11 col6\" >93.9%</td>\n",
       "                        <td id=\"T_aff2e_row11_col7\" class=\"data row11 col7\" >95.9%</td>\n",
       "                        <td id=\"T_aff2e_row11_col8\" class=\"data row11 col8\" >89.9%</td>\n",
       "            </tr>\n",
       "            <tr>\n",
       "                        <th id=\"T_aff2e_level0_row12\" class=\"row_heading level0 row12\" >Thomas High School</th>\n",
       "                        <td id=\"T_aff2e_row12_col0\" class=\"data row12 col0\" >Charter</td>\n",
       "                        <td id=\"T_aff2e_row12_col1\" class=\"data row12 col1\" >1,635</td>\n",
       "                        <td id=\"T_aff2e_row12_col2\" class=\"data row12 col2\" >$1,043,130</td>\n",
       "                        <td id=\"T_aff2e_row12_col3\" class=\"data row12 col3\" >$638.0</td>\n",
       "                        <td id=\"T_aff2e_row12_col4\" class=\"data row12 col4\" >83.4</td>\n",
       "                        <td id=\"T_aff2e_row12_col5\" class=\"data row12 col5\" >83.8</td>\n",
       "                        <td id=\"T_aff2e_row12_col6\" class=\"data row12 col6\" >93.3%</td>\n",
       "                        <td id=\"T_aff2e_row12_col7\" class=\"data row12 col7\" >97.3%</td>\n",
       "                        <td id=\"T_aff2e_row12_col8\" class=\"data row12 col8\" >90.9%</td>\n",
       "            </tr>\n",
       "            <tr>\n",
       "                        <th id=\"T_aff2e_level0_row13\" class=\"row_heading level0 row13\" >Wilson High School</th>\n",
       "                        <td id=\"T_aff2e_row13_col0\" class=\"data row13 col0\" >Charter</td>\n",
       "                        <td id=\"T_aff2e_row13_col1\" class=\"data row13 col1\" >2,283</td>\n",
       "                        <td id=\"T_aff2e_row13_col2\" class=\"data row13 col2\" >$1,319,574</td>\n",
       "                        <td id=\"T_aff2e_row13_col3\" class=\"data row13 col3\" >$578.0</td>\n",
       "                        <td id=\"T_aff2e_row13_col4\" class=\"data row13 col4\" >83.3</td>\n",
       "                        <td id=\"T_aff2e_row13_col5\" class=\"data row13 col5\" >84.0</td>\n",
       "                        <td id=\"T_aff2e_row13_col6\" class=\"data row13 col6\" >93.9%</td>\n",
       "                        <td id=\"T_aff2e_row13_col7\" class=\"data row13 col7\" >96.5%</td>\n",
       "                        <td id=\"T_aff2e_row13_col8\" class=\"data row13 col8\" >90.6%</td>\n",
       "            </tr>\n",
       "            <tr>\n",
       "                        <th id=\"T_aff2e_level0_row14\" class=\"row_heading level0 row14\" >Wright High School</th>\n",
       "                        <td id=\"T_aff2e_row14_col0\" class=\"data row14 col0\" >Charter</td>\n",
       "                        <td id=\"T_aff2e_row14_col1\" class=\"data row14 col1\" >1,800</td>\n",
       "                        <td id=\"T_aff2e_row14_col2\" class=\"data row14 col2\" >$1,049,400</td>\n",
       "                        <td id=\"T_aff2e_row14_col3\" class=\"data row14 col3\" >$583.0</td>\n",
       "                        <td id=\"T_aff2e_row14_col4\" class=\"data row14 col4\" >83.7</td>\n",
       "                        <td id=\"T_aff2e_row14_col5\" class=\"data row14 col5\" >84.0</td>\n",
       "                        <td id=\"T_aff2e_row14_col6\" class=\"data row14 col6\" >93.3%</td>\n",
       "                        <td id=\"T_aff2e_row14_col7\" class=\"data row14 col7\" >96.6%</td>\n",
       "                        <td id=\"T_aff2e_row14_col8\" class=\"data row14 col8\" >90.3%</td>\n",
       "            </tr>\n",
       "    </tbody></table>"
      ],
      "text/plain": [
       "<pandas.io.formats.style.Styler at 0x7fd338ecdd90>"
      ]
     },
     "execution_count": 29,
     "metadata": {},
     "output_type": "execute_result"
    }
   ],
   "source": [
    "schools_df = pd.DataFrame({\"School Type\":school_type,\"Total Students\":school_students,\"Total Budget\":school_budget,\n",
    "              \"Per Student Budget\":school_budget_per_student,\"Average Math\":school_math_avg,\"Average Reading\":school_read_avg,\n",
    "              \"% Passing Math\":school_prc_pass_math,\"% Passing Reading\":school_prc_pass_read,\"% Passing Overall\":school_prc_pass_read_math\n",
    "               }).rename_axis(\"\")\n",
    "\n",
    "schools_df.style.format(style_dict)\n",
    "#Create a dataframe to hold results and deliver results cleanly"
   ]
  },
  {
   "cell_type": "markdown",
   "id": "ba9b8e5a-68ac-4b6b-8b72-52d8dd69a183",
   "metadata": {},
   "source": [
    "# Top 5 Performing Schools (By % Overall Passing)"
   ]
  },
  {
   "cell_type": "code",
   "execution_count": 30,
   "id": "5175d570-0de5-4dff-b1c6-7c885d1e0953",
   "metadata": {},
   "outputs": [
    {
     "data": {
      "text/html": [
       "<style  type=\"text/css\" >\n",
       "</style><table id=\"T_208c5_\" ><thead>    <tr>        <th class=\"blank level0\" ></th>        <th class=\"col_heading level0 col0\" >School Type</th>        <th class=\"col_heading level0 col1\" >Total Students</th>        <th class=\"col_heading level0 col2\" >Total Budget</th>        <th class=\"col_heading level0 col3\" >Per Student Budget</th>        <th class=\"col_heading level0 col4\" >Average Math</th>        <th class=\"col_heading level0 col5\" >Average Reading</th>        <th class=\"col_heading level0 col6\" >% Passing Math</th>        <th class=\"col_heading level0 col7\" >% Passing Reading</th>        <th class=\"col_heading level0 col8\" >% Passing Overall</th>    </tr>    <tr>        <th class=\"index_name level0\" ></th>        <th class=\"blank\" ></th>        <th class=\"blank\" ></th>        <th class=\"blank\" ></th>        <th class=\"blank\" ></th>        <th class=\"blank\" ></th>        <th class=\"blank\" ></th>        <th class=\"blank\" ></th>        <th class=\"blank\" ></th>        <th class=\"blank\" ></th>    </tr></thead><tbody>\n",
       "                <tr>\n",
       "                        <th id=\"T_208c5_level0_row0\" class=\"row_heading level0 row0\" >Cabrera High School</th>\n",
       "                        <td id=\"T_208c5_row0_col0\" class=\"data row0 col0\" >Charter</td>\n",
       "                        <td id=\"T_208c5_row0_col1\" class=\"data row0 col1\" >1,858</td>\n",
       "                        <td id=\"T_208c5_row0_col2\" class=\"data row0 col2\" >$1,081,356</td>\n",
       "                        <td id=\"T_208c5_row0_col3\" class=\"data row0 col3\" >$582.0</td>\n",
       "                        <td id=\"T_208c5_row0_col4\" class=\"data row0 col4\" >83.1</td>\n",
       "                        <td id=\"T_208c5_row0_col5\" class=\"data row0 col5\" >84.0</td>\n",
       "                        <td id=\"T_208c5_row0_col6\" class=\"data row0 col6\" >94.1%</td>\n",
       "                        <td id=\"T_208c5_row0_col7\" class=\"data row0 col7\" >97.0%</td>\n",
       "                        <td id=\"T_208c5_row0_col8\" class=\"data row0 col8\" >91.3%</td>\n",
       "            </tr>\n",
       "            <tr>\n",
       "                        <th id=\"T_208c5_level0_row1\" class=\"row_heading level0 row1\" >Thomas High School</th>\n",
       "                        <td id=\"T_208c5_row1_col0\" class=\"data row1 col0\" >Charter</td>\n",
       "                        <td id=\"T_208c5_row1_col1\" class=\"data row1 col1\" >1,635</td>\n",
       "                        <td id=\"T_208c5_row1_col2\" class=\"data row1 col2\" >$1,043,130</td>\n",
       "                        <td id=\"T_208c5_row1_col3\" class=\"data row1 col3\" >$638.0</td>\n",
       "                        <td id=\"T_208c5_row1_col4\" class=\"data row1 col4\" >83.4</td>\n",
       "                        <td id=\"T_208c5_row1_col5\" class=\"data row1 col5\" >83.8</td>\n",
       "                        <td id=\"T_208c5_row1_col6\" class=\"data row1 col6\" >93.3%</td>\n",
       "                        <td id=\"T_208c5_row1_col7\" class=\"data row1 col7\" >97.3%</td>\n",
       "                        <td id=\"T_208c5_row1_col8\" class=\"data row1 col8\" >90.9%</td>\n",
       "            </tr>\n",
       "            <tr>\n",
       "                        <th id=\"T_208c5_level0_row2\" class=\"row_heading level0 row2\" >Griffin High School</th>\n",
       "                        <td id=\"T_208c5_row2_col0\" class=\"data row2 col0\" >Charter</td>\n",
       "                        <td id=\"T_208c5_row2_col1\" class=\"data row2 col1\" >1,468</td>\n",
       "                        <td id=\"T_208c5_row2_col2\" class=\"data row2 col2\" >$917,500</td>\n",
       "                        <td id=\"T_208c5_row2_col3\" class=\"data row2 col3\" >$625.0</td>\n",
       "                        <td id=\"T_208c5_row2_col4\" class=\"data row2 col4\" >83.4</td>\n",
       "                        <td id=\"T_208c5_row2_col5\" class=\"data row2 col5\" >83.8</td>\n",
       "                        <td id=\"T_208c5_row2_col6\" class=\"data row2 col6\" >93.4%</td>\n",
       "                        <td id=\"T_208c5_row2_col7\" class=\"data row2 col7\" >97.1%</td>\n",
       "                        <td id=\"T_208c5_row2_col8\" class=\"data row2 col8\" >90.6%</td>\n",
       "            </tr>\n",
       "            <tr>\n",
       "                        <th id=\"T_208c5_level0_row3\" class=\"row_heading level0 row3\" >Wilson High School</th>\n",
       "                        <td id=\"T_208c5_row3_col0\" class=\"data row3 col0\" >Charter</td>\n",
       "                        <td id=\"T_208c5_row3_col1\" class=\"data row3 col1\" >2,283</td>\n",
       "                        <td id=\"T_208c5_row3_col2\" class=\"data row3 col2\" >$1,319,574</td>\n",
       "                        <td id=\"T_208c5_row3_col3\" class=\"data row3 col3\" >$578.0</td>\n",
       "                        <td id=\"T_208c5_row3_col4\" class=\"data row3 col4\" >83.3</td>\n",
       "                        <td id=\"T_208c5_row3_col5\" class=\"data row3 col5\" >84.0</td>\n",
       "                        <td id=\"T_208c5_row3_col6\" class=\"data row3 col6\" >93.9%</td>\n",
       "                        <td id=\"T_208c5_row3_col7\" class=\"data row3 col7\" >96.5%</td>\n",
       "                        <td id=\"T_208c5_row3_col8\" class=\"data row3 col8\" >90.6%</td>\n",
       "            </tr>\n",
       "            <tr>\n",
       "                        <th id=\"T_208c5_level0_row4\" class=\"row_heading level0 row4\" >Pena High School</th>\n",
       "                        <td id=\"T_208c5_row4_col0\" class=\"data row4 col0\" >Charter</td>\n",
       "                        <td id=\"T_208c5_row4_col1\" class=\"data row4 col1\" >962</td>\n",
       "                        <td id=\"T_208c5_row4_col2\" class=\"data row4 col2\" >$585,858</td>\n",
       "                        <td id=\"T_208c5_row4_col3\" class=\"data row4 col3\" >$609.0</td>\n",
       "                        <td id=\"T_208c5_row4_col4\" class=\"data row4 col4\" >83.8</td>\n",
       "                        <td id=\"T_208c5_row4_col5\" class=\"data row4 col5\" >84.0</td>\n",
       "                        <td id=\"T_208c5_row4_col6\" class=\"data row4 col6\" >94.6%</td>\n",
       "                        <td id=\"T_208c5_row4_col7\" class=\"data row4 col7\" >95.9%</td>\n",
       "                        <td id=\"T_208c5_row4_col8\" class=\"data row4 col8\" >90.5%</td>\n",
       "            </tr>\n",
       "    </tbody></table>"
      ],
      "text/plain": [
       "<pandas.io.formats.style.Styler at 0x7fd3191815b0>"
      ]
     },
     "execution_count": 30,
     "metadata": {},
     "output_type": "execute_result"
    }
   ],
   "source": [
    "top_schools_df = schools_df.sort_values(by='% Passing Overall', ascending=False).head(5).rename_axis(\"\")\n",
    "top_schools_df.style.format(style_dict)\n",
    "\n",
    "#Sort and display the top five performing schools by % overall passing"
   ]
  },
  {
   "cell_type": "markdown",
   "id": "8fd60bc7-17dd-4a85-9067-2f4df7ec3d38",
   "metadata": {},
   "source": [
    "# Bottom 5 Performing Schools (By % Overall Passing)"
   ]
  },
  {
   "cell_type": "code",
   "execution_count": 31,
   "id": "d37c8937-f3dc-46ab-a7d5-b73a4f8e6bbe",
   "metadata": {},
   "outputs": [
    {
     "data": {
      "text/html": [
       "<style  type=\"text/css\" >\n",
       "</style><table id=\"T_73905_\" ><thead>    <tr>        <th class=\"blank level0\" ></th>        <th class=\"col_heading level0 col0\" >School Type</th>        <th class=\"col_heading level0 col1\" >Total Students</th>        <th class=\"col_heading level0 col2\" >Total Budget</th>        <th class=\"col_heading level0 col3\" >Per Student Budget</th>        <th class=\"col_heading level0 col4\" >Average Math</th>        <th class=\"col_heading level0 col5\" >Average Reading</th>        <th class=\"col_heading level0 col6\" >% Passing Math</th>        <th class=\"col_heading level0 col7\" >% Passing Reading</th>        <th class=\"col_heading level0 col8\" >% Passing Overall</th>    </tr>    <tr>        <th class=\"index_name level0\" ></th>        <th class=\"blank\" ></th>        <th class=\"blank\" ></th>        <th class=\"blank\" ></th>        <th class=\"blank\" ></th>        <th class=\"blank\" ></th>        <th class=\"blank\" ></th>        <th class=\"blank\" ></th>        <th class=\"blank\" ></th>        <th class=\"blank\" ></th>    </tr></thead><tbody>\n",
       "                <tr>\n",
       "                        <th id=\"T_73905_level0_row0\" class=\"row_heading level0 row0\" >Rodriguez High School</th>\n",
       "                        <td id=\"T_73905_row0_col0\" class=\"data row0 col0\" >District</td>\n",
       "                        <td id=\"T_73905_row0_col1\" class=\"data row0 col1\" >3,999</td>\n",
       "                        <td id=\"T_73905_row0_col2\" class=\"data row0 col2\" >$2,547,363</td>\n",
       "                        <td id=\"T_73905_row0_col3\" class=\"data row0 col3\" >$637.0</td>\n",
       "                        <td id=\"T_73905_row0_col4\" class=\"data row0 col4\" >76.8</td>\n",
       "                        <td id=\"T_73905_row0_col5\" class=\"data row0 col5\" >80.7</td>\n",
       "                        <td id=\"T_73905_row0_col6\" class=\"data row0 col6\" >66.4%</td>\n",
       "                        <td id=\"T_73905_row0_col7\" class=\"data row0 col7\" >80.2%</td>\n",
       "                        <td id=\"T_73905_row0_col8\" class=\"data row0 col8\" >53.0%</td>\n",
       "            </tr>\n",
       "            <tr>\n",
       "                        <th id=\"T_73905_level0_row1\" class=\"row_heading level0 row1\" >Figueroa High School</th>\n",
       "                        <td id=\"T_73905_row1_col0\" class=\"data row1 col0\" >District</td>\n",
       "                        <td id=\"T_73905_row1_col1\" class=\"data row1 col1\" >2,949</td>\n",
       "                        <td id=\"T_73905_row1_col2\" class=\"data row1 col2\" >$1,884,411</td>\n",
       "                        <td id=\"T_73905_row1_col3\" class=\"data row1 col3\" >$639.0</td>\n",
       "                        <td id=\"T_73905_row1_col4\" class=\"data row1 col4\" >76.7</td>\n",
       "                        <td id=\"T_73905_row1_col5\" class=\"data row1 col5\" >81.2</td>\n",
       "                        <td id=\"T_73905_row1_col6\" class=\"data row1 col6\" >66.0%</td>\n",
       "                        <td id=\"T_73905_row1_col7\" class=\"data row1 col7\" >80.7%</td>\n",
       "                        <td id=\"T_73905_row1_col8\" class=\"data row1 col8\" >53.2%</td>\n",
       "            </tr>\n",
       "            <tr>\n",
       "                        <th id=\"T_73905_level0_row2\" class=\"row_heading level0 row2\" >Huang High School</th>\n",
       "                        <td id=\"T_73905_row2_col0\" class=\"data row2 col0\" >District</td>\n",
       "                        <td id=\"T_73905_row2_col1\" class=\"data row2 col1\" >2,917</td>\n",
       "                        <td id=\"T_73905_row2_col2\" class=\"data row2 col2\" >$1,910,635</td>\n",
       "                        <td id=\"T_73905_row2_col3\" class=\"data row2 col3\" >$655.0</td>\n",
       "                        <td id=\"T_73905_row2_col4\" class=\"data row2 col4\" >76.6</td>\n",
       "                        <td id=\"T_73905_row2_col5\" class=\"data row2 col5\" >81.2</td>\n",
       "                        <td id=\"T_73905_row2_col6\" class=\"data row2 col6\" >65.7%</td>\n",
       "                        <td id=\"T_73905_row2_col7\" class=\"data row2 col7\" >81.3%</td>\n",
       "                        <td id=\"T_73905_row2_col8\" class=\"data row2 col8\" >53.5%</td>\n",
       "            </tr>\n",
       "            <tr>\n",
       "                        <th id=\"T_73905_level0_row3\" class=\"row_heading level0 row3\" >Hernandez High School</th>\n",
       "                        <td id=\"T_73905_row3_col0\" class=\"data row3 col0\" >District</td>\n",
       "                        <td id=\"T_73905_row3_col1\" class=\"data row3 col1\" >4,635</td>\n",
       "                        <td id=\"T_73905_row3_col2\" class=\"data row3 col2\" >$3,022,020</td>\n",
       "                        <td id=\"T_73905_row3_col3\" class=\"data row3 col3\" >$652.0</td>\n",
       "                        <td id=\"T_73905_row3_col4\" class=\"data row3 col4\" >77.3</td>\n",
       "                        <td id=\"T_73905_row3_col5\" class=\"data row3 col5\" >80.9</td>\n",
       "                        <td id=\"T_73905_row3_col6\" class=\"data row3 col6\" >66.8%</td>\n",
       "                        <td id=\"T_73905_row3_col7\" class=\"data row3 col7\" >80.9%</td>\n",
       "                        <td id=\"T_73905_row3_col8\" class=\"data row3 col8\" >53.5%</td>\n",
       "            </tr>\n",
       "            <tr>\n",
       "                        <th id=\"T_73905_level0_row4\" class=\"row_heading level0 row4\" >Johnson High School</th>\n",
       "                        <td id=\"T_73905_row4_col0\" class=\"data row4 col0\" >District</td>\n",
       "                        <td id=\"T_73905_row4_col1\" class=\"data row4 col1\" >4,761</td>\n",
       "                        <td id=\"T_73905_row4_col2\" class=\"data row4 col2\" >$3,094,650</td>\n",
       "                        <td id=\"T_73905_row4_col3\" class=\"data row4 col3\" >$650.0</td>\n",
       "                        <td id=\"T_73905_row4_col4\" class=\"data row4 col4\" >77.1</td>\n",
       "                        <td id=\"T_73905_row4_col5\" class=\"data row4 col5\" >81.0</td>\n",
       "                        <td id=\"T_73905_row4_col6\" class=\"data row4 col6\" >66.1%</td>\n",
       "                        <td id=\"T_73905_row4_col7\" class=\"data row4 col7\" >81.2%</td>\n",
       "                        <td id=\"T_73905_row4_col8\" class=\"data row4 col8\" >53.5%</td>\n",
       "            </tr>\n",
       "    </tbody></table>"
      ],
      "text/plain": [
       "<pandas.io.formats.style.Styler at 0x7fd3186c0550>"
      ]
     },
     "execution_count": 31,
     "metadata": {},
     "output_type": "execute_result"
    }
   ],
   "source": [
    "bottom_schools_df = schools_df.sort_values(by='% Passing Overall', ascending=True).head(5).rename_axis(\"\")\n",
    "bottom_schools_df.style.format(style_dict)\n",
    "\n",
    "#Sort and display the five worst-performing schools by % overall passing."
   ]
  },
  {
   "cell_type": "markdown",
   "id": "b8a3669c-d1c5-480a-b2cb-166e48aa65c3",
   "metadata": {},
   "source": [
    "# Math Scores by Grade"
   ]
  },
  {
   "cell_type": "code",
   "execution_count": 32,
   "id": "773a7570-43ca-4ed0-ba18-dec0a85adc6f",
   "metadata": {},
   "outputs": [
    {
     "data": {
      "text/html": [
       "<style  type=\"text/css\" >\n",
       "</style><table id=\"T_3bd58_\" ><thead>    <tr>        <th class=\"blank level0\" ></th>        <th class=\"col_heading level0 col0\" >9th</th>        <th class=\"col_heading level0 col1\" >10th</th>        <th class=\"col_heading level0 col2\" >11th</th>        <th class=\"col_heading level0 col3\" >12th</th>    </tr>    <tr>        <th class=\"index_name level0\" ></th>        <th class=\"blank\" ></th>        <th class=\"blank\" ></th>        <th class=\"blank\" ></th>        <th class=\"blank\" ></th>    </tr></thead><tbody>\n",
       "                <tr>\n",
       "                        <th id=\"T_3bd58_level0_row0\" class=\"row_heading level0 row0\" >Bailey High School</th>\n",
       "                        <td id=\"T_3bd58_row0_col0\" class=\"data row0 col0\" >77.4</td>\n",
       "                        <td id=\"T_3bd58_row0_col1\" class=\"data row0 col1\" >76.9</td>\n",
       "                        <td id=\"T_3bd58_row0_col2\" class=\"data row0 col2\" >77.9</td>\n",
       "                        <td id=\"T_3bd58_row0_col3\" class=\"data row0 col3\" >76.3</td>\n",
       "            </tr>\n",
       "            <tr>\n",
       "                        <th id=\"T_3bd58_level0_row1\" class=\"row_heading level0 row1\" >Cabrera High School</th>\n",
       "                        <td id=\"T_3bd58_row1_col0\" class=\"data row1 col0\" >83.5</td>\n",
       "                        <td id=\"T_3bd58_row1_col1\" class=\"data row1 col1\" >84.0</td>\n",
       "                        <td id=\"T_3bd58_row1_col2\" class=\"data row1 col2\" >83.6</td>\n",
       "                        <td id=\"T_3bd58_row1_col3\" class=\"data row1 col3\" >84.1</td>\n",
       "            </tr>\n",
       "            <tr>\n",
       "                        <th id=\"T_3bd58_level0_row2\" class=\"row_heading level0 row2\" >Figueroa High School</th>\n",
       "                        <td id=\"T_3bd58_row2_col0\" class=\"data row2 col0\" >76.2</td>\n",
       "                        <td id=\"T_3bd58_row2_col1\" class=\"data row2 col1\" >77.0</td>\n",
       "                        <td id=\"T_3bd58_row2_col2\" class=\"data row2 col2\" >76.7</td>\n",
       "                        <td id=\"T_3bd58_row2_col3\" class=\"data row2 col3\" >77.3</td>\n",
       "            </tr>\n",
       "            <tr>\n",
       "                        <th id=\"T_3bd58_level0_row3\" class=\"row_heading level0 row3\" >Ford High School</th>\n",
       "                        <td id=\"T_3bd58_row3_col0\" class=\"data row3 col0\" >76.6</td>\n",
       "                        <td id=\"T_3bd58_row3_col1\" class=\"data row3 col1\" >77.3</td>\n",
       "                        <td id=\"T_3bd58_row3_col2\" class=\"data row3 col2\" >76.6</td>\n",
       "                        <td id=\"T_3bd58_row3_col3\" class=\"data row3 col3\" >76.2</td>\n",
       "            </tr>\n",
       "            <tr>\n",
       "                        <th id=\"T_3bd58_level0_row4\" class=\"row_heading level0 row4\" >Griffin High School</th>\n",
       "                        <td id=\"T_3bd58_row4_col0\" class=\"data row4 col0\" >82.9</td>\n",
       "                        <td id=\"T_3bd58_row4_col1\" class=\"data row4 col1\" >84.3</td>\n",
       "                        <td id=\"T_3bd58_row4_col2\" class=\"data row4 col2\" >84.2</td>\n",
       "                        <td id=\"T_3bd58_row4_col3\" class=\"data row4 col3\" >83.3</td>\n",
       "            </tr>\n",
       "            <tr>\n",
       "                        <th id=\"T_3bd58_level0_row5\" class=\"row_heading level0 row5\" >Hernandez High School</th>\n",
       "                        <td id=\"T_3bd58_row5_col0\" class=\"data row5 col0\" >77.6</td>\n",
       "                        <td id=\"T_3bd58_row5_col1\" class=\"data row5 col1\" >77.6</td>\n",
       "                        <td id=\"T_3bd58_row5_col2\" class=\"data row5 col2\" >77.7</td>\n",
       "                        <td id=\"T_3bd58_row5_col3\" class=\"data row5 col3\" >77.0</td>\n",
       "            </tr>\n",
       "            <tr>\n",
       "                        <th id=\"T_3bd58_level0_row6\" class=\"row_heading level0 row6\" >Holden High School</th>\n",
       "                        <td id=\"T_3bd58_row6_col0\" class=\"data row6 col0\" >83.8</td>\n",
       "                        <td id=\"T_3bd58_row6_col1\" class=\"data row6 col1\" >83.0</td>\n",
       "                        <td id=\"T_3bd58_row6_col2\" class=\"data row6 col2\" >85.7</td>\n",
       "                        <td id=\"T_3bd58_row6_col3\" class=\"data row6 col3\" >82.4</td>\n",
       "            </tr>\n",
       "            <tr>\n",
       "                        <th id=\"T_3bd58_level0_row7\" class=\"row_heading level0 row7\" >Huang High School</th>\n",
       "                        <td id=\"T_3bd58_row7_col0\" class=\"data row7 col0\" >77.1</td>\n",
       "                        <td id=\"T_3bd58_row7_col1\" class=\"data row7 col1\" >75.7</td>\n",
       "                        <td id=\"T_3bd58_row7_col2\" class=\"data row7 col2\" >76.8</td>\n",
       "                        <td id=\"T_3bd58_row7_col3\" class=\"data row7 col3\" >76.9</td>\n",
       "            </tr>\n",
       "            <tr>\n",
       "                        <th id=\"T_3bd58_level0_row8\" class=\"row_heading level0 row8\" >Johnson High School</th>\n",
       "                        <td id=\"T_3bd58_row8_col0\" class=\"data row8 col0\" >77.7</td>\n",
       "                        <td id=\"T_3bd58_row8_col1\" class=\"data row8 col1\" >77.5</td>\n",
       "                        <td id=\"T_3bd58_row8_col2\" class=\"data row8 col2\" >78.0</td>\n",
       "                        <td id=\"T_3bd58_row8_col3\" class=\"data row8 col3\" >77.1</td>\n",
       "            </tr>\n",
       "            <tr>\n",
       "                        <th id=\"T_3bd58_level0_row9\" class=\"row_heading level0 row9\" >Pena High School</th>\n",
       "                        <td id=\"T_3bd58_row9_col0\" class=\"data row9 col0\" >84.4</td>\n",
       "                        <td id=\"T_3bd58_row9_col1\" class=\"data row9 col1\" >82.8</td>\n",
       "                        <td id=\"T_3bd58_row9_col2\" class=\"data row9 col2\" >84.6</td>\n",
       "                        <td id=\"T_3bd58_row9_col3\" class=\"data row9 col3\" >83.9</td>\n",
       "            </tr>\n",
       "            <tr>\n",
       "                        <th id=\"T_3bd58_level0_row10\" class=\"row_heading level0 row10\" >Rodriguez High School</th>\n",
       "                        <td id=\"T_3bd58_row10_col0\" class=\"data row10 col0\" >77.2</td>\n",
       "                        <td id=\"T_3bd58_row10_col1\" class=\"data row10 col1\" >77.1</td>\n",
       "                        <td id=\"T_3bd58_row10_col2\" class=\"data row10 col2\" >75.8</td>\n",
       "                        <td id=\"T_3bd58_row10_col3\" class=\"data row10 col3\" >77.4</td>\n",
       "            </tr>\n",
       "            <tr>\n",
       "                        <th id=\"T_3bd58_level0_row11\" class=\"row_heading level0 row11\" >Shelton High School</th>\n",
       "                        <td id=\"T_3bd58_row11_col0\" class=\"data row11 col0\" >84.5</td>\n",
       "                        <td id=\"T_3bd58_row11_col1\" class=\"data row11 col1\" >84.0</td>\n",
       "                        <td id=\"T_3bd58_row11_col2\" class=\"data row11 col2\" >83.7</td>\n",
       "                        <td id=\"T_3bd58_row11_col3\" class=\"data row11 col3\" >84.7</td>\n",
       "            </tr>\n",
       "            <tr>\n",
       "                        <th id=\"T_3bd58_level0_row12\" class=\"row_heading level0 row12\" >Thomas High School</th>\n",
       "                        <td id=\"T_3bd58_row12_col0\" class=\"data row12 col0\" >84.0</td>\n",
       "                        <td id=\"T_3bd58_row12_col1\" class=\"data row12 col1\" >83.8</td>\n",
       "                        <td id=\"T_3bd58_row12_col2\" class=\"data row12 col2\" >84.1</td>\n",
       "                        <td id=\"T_3bd58_row12_col3\" class=\"data row12 col3\" >84.3</td>\n",
       "            </tr>\n",
       "            <tr>\n",
       "                        <th id=\"T_3bd58_level0_row13\" class=\"row_heading level0 row13\" >Wilson High School</th>\n",
       "                        <td id=\"T_3bd58_row13_col0\" class=\"data row13 col0\" >83.2</td>\n",
       "                        <td id=\"T_3bd58_row13_col1\" class=\"data row13 col1\" >84.1</td>\n",
       "                        <td id=\"T_3bd58_row13_col2\" class=\"data row13 col2\" >83.2</td>\n",
       "                        <td id=\"T_3bd58_row13_col3\" class=\"data row13 col3\" >83.3</td>\n",
       "            </tr>\n",
       "            <tr>\n",
       "                        <th id=\"T_3bd58_level0_row14\" class=\"row_heading level0 row14\" >Wright High School</th>\n",
       "                        <td id=\"T_3bd58_row14_col0\" class=\"data row14 col0\" >84.0</td>\n",
       "                        <td id=\"T_3bd58_row14_col1\" class=\"data row14 col1\" >84.1</td>\n",
       "                        <td id=\"T_3bd58_row14_col2\" class=\"data row14 col2\" >84.3</td>\n",
       "                        <td id=\"T_3bd58_row14_col3\" class=\"data row14 col3\" >83.7</td>\n",
       "            </tr>\n",
       "    </tbody></table>"
      ],
      "text/plain": [
       "<pandas.io.formats.style.Styler at 0x7fd318724250>"
      ]
     },
     "execution_count": 32,
     "metadata": {},
     "output_type": "execute_result"
    }
   ],
   "source": [
    "G9_math_data = cs_df.loc[(cs_df[\"math_score\"]) & (cs_df[\"grade\"]==\"9th\"),:]\n",
    "G9_math = G9_math_data.groupby(\"school_name\")[\"math_score\"].mean()\n",
    "G9_math\n",
    "\n",
    "G10_math_data = cs_df.loc[(cs_df[\"math_score\"]) & (cs_df[\"grade\"]==\"10th\"),:]\n",
    "G10_math = G10_math_data.groupby(\"school_name\")[\"math_score\"].mean()\n",
    "G10_math\n",
    "\n",
    "G11_math_data = cs_df.loc[(cs_df[\"math_score\"]) & (cs_df[\"grade\"]==\"11th\"),:]\n",
    "G11_math = G11_math_data.groupby(\"school_name\")[\"math_score\"].mean()\n",
    "G11_math\n",
    "\n",
    "G12_math_data = cs_df.loc[(cs_df[\"math_score\"]) & (cs_df[\"grade\"]==\"12th\"),:]\n",
    "G12_math = G12_math_data.groupby(\"school_name\")[\"math_score\"].mean()\n",
    "G12_math\n",
    "\n",
    "#Calculate math averages per grade\n",
    "\n",
    "math_df = pd.DataFrame({\"9th\":G9_math,\"10th\":G10_math,\"11th\":G11_math,\n",
    "              \"12th\":G12_math\n",
    "               }).rename_axis(\"\")\n",
    "\n",
    "math_df.style.format(style_dict)\n",
    "\n",
    "#Collect math averages per grade into stylish dataframe"
   ]
  },
  {
   "cell_type": "markdown",
   "id": "4575b2be-51fd-4fa3-bc8c-e46324921c35",
   "metadata": {},
   "source": [
    "# Reading Scores by Grade"
   ]
  },
  {
   "cell_type": "code",
   "execution_count": 33,
   "id": "4c4dc2c8-11f5-40a9-9559-3456790c3b22",
   "metadata": {},
   "outputs": [
    {
     "data": {
      "text/html": [
       "<style  type=\"text/css\" >\n",
       "</style><table id=\"T_6a631_\" ><thead>    <tr>        <th class=\"blank level0\" ></th>        <th class=\"col_heading level0 col0\" >9th</th>        <th class=\"col_heading level0 col1\" >10th</th>        <th class=\"col_heading level0 col2\" >11th</th>        <th class=\"col_heading level0 col3\" >12th</th>    </tr>    <tr>        <th class=\"index_name level0\" ></th>        <th class=\"blank\" ></th>        <th class=\"blank\" ></th>        <th class=\"blank\" ></th>        <th class=\"blank\" ></th>    </tr></thead><tbody>\n",
       "                <tr>\n",
       "                        <th id=\"T_6a631_level0_row0\" class=\"row_heading level0 row0\" >Bailey High School</th>\n",
       "                        <td id=\"T_6a631_row0_col0\" class=\"data row0 col0\" >80.8</td>\n",
       "                        <td id=\"T_6a631_row0_col1\" class=\"data row0 col1\" >81.0</td>\n",
       "                        <td id=\"T_6a631_row0_col2\" class=\"data row0 col2\" >80.7</td>\n",
       "                        <td id=\"T_6a631_row0_col3\" class=\"data row0 col3\" >80.7</td>\n",
       "            </tr>\n",
       "            <tr>\n",
       "                        <th id=\"T_6a631_level0_row1\" class=\"row_heading level0 row1\" >Cabrera High School</th>\n",
       "                        <td id=\"T_6a631_row1_col0\" class=\"data row1 col0\" >83.9</td>\n",
       "                        <td id=\"T_6a631_row1_col1\" class=\"data row1 col1\" >84.3</td>\n",
       "                        <td id=\"T_6a631_row1_col2\" class=\"data row1 col2\" >83.7</td>\n",
       "                        <td id=\"T_6a631_row1_col3\" class=\"data row1 col3\" >84.0</td>\n",
       "            </tr>\n",
       "            <tr>\n",
       "                        <th id=\"T_6a631_level0_row2\" class=\"row_heading level0 row2\" >Figueroa High School</th>\n",
       "                        <td id=\"T_6a631_row2_col0\" class=\"data row2 col0\" >80.9</td>\n",
       "                        <td id=\"T_6a631_row2_col1\" class=\"data row2 col1\" >81.6</td>\n",
       "                        <td id=\"T_6a631_row2_col2\" class=\"data row2 col2\" >81.1</td>\n",
       "                        <td id=\"T_6a631_row2_col3\" class=\"data row2 col3\" >81.2</td>\n",
       "            </tr>\n",
       "            <tr>\n",
       "                        <th id=\"T_6a631_level0_row3\" class=\"row_heading level0 row3\" >Ford High School</th>\n",
       "                        <td id=\"T_6a631_row3_col0\" class=\"data row3 col0\" >80.5</td>\n",
       "                        <td id=\"T_6a631_row3_col1\" class=\"data row3 col1\" >79.9</td>\n",
       "                        <td id=\"T_6a631_row3_col2\" class=\"data row3 col2\" >80.6</td>\n",
       "                        <td id=\"T_6a631_row3_col3\" class=\"data row3 col3\" >79.7</td>\n",
       "            </tr>\n",
       "            <tr>\n",
       "                        <th id=\"T_6a631_level0_row4\" class=\"row_heading level0 row4\" >Griffin High School</th>\n",
       "                        <td id=\"T_6a631_row4_col0\" class=\"data row4 col0\" >83.8</td>\n",
       "                        <td id=\"T_6a631_row4_col1\" class=\"data row4 col1\" >83.9</td>\n",
       "                        <td id=\"T_6a631_row4_col2\" class=\"data row4 col2\" >83.8</td>\n",
       "                        <td id=\"T_6a631_row4_col3\" class=\"data row4 col3\" >85.2</td>\n",
       "            </tr>\n",
       "            <tr>\n",
       "                        <th id=\"T_6a631_level0_row5\" class=\"row_heading level0 row5\" >Hernandez High School</th>\n",
       "                        <td id=\"T_6a631_row5_col0\" class=\"data row5 col0\" >81.0</td>\n",
       "                        <td id=\"T_6a631_row5_col1\" class=\"data row5 col1\" >80.7</td>\n",
       "                        <td id=\"T_6a631_row5_col2\" class=\"data row5 col2\" >81.3</td>\n",
       "                        <td id=\"T_6a631_row5_col3\" class=\"data row5 col3\" >80.3</td>\n",
       "            </tr>\n",
       "            <tr>\n",
       "                        <th id=\"T_6a631_level0_row6\" class=\"row_heading level0 row6\" >Holden High School</th>\n",
       "                        <td id=\"T_6a631_row6_col0\" class=\"data row6 col0\" >83.0</td>\n",
       "                        <td id=\"T_6a631_row6_col1\" class=\"data row6 col1\" >83.7</td>\n",
       "                        <td id=\"T_6a631_row6_col2\" class=\"data row6 col2\" >84.8</td>\n",
       "                        <td id=\"T_6a631_row6_col3\" class=\"data row6 col3\" >82.5</td>\n",
       "            </tr>\n",
       "            <tr>\n",
       "                        <th id=\"T_6a631_level0_row7\" class=\"row_heading level0 row7\" >Huang High School</th>\n",
       "                        <td id=\"T_6a631_row7_col0\" class=\"data row7 col0\" >81.3</td>\n",
       "                        <td id=\"T_6a631_row7_col1\" class=\"data row7 col1\" >81.5</td>\n",
       "                        <td id=\"T_6a631_row7_col2\" class=\"data row7 col2\" >80.9</td>\n",
       "                        <td id=\"T_6a631_row7_col3\" class=\"data row7 col3\" >80.1</td>\n",
       "            </tr>\n",
       "            <tr>\n",
       "                        <th id=\"T_6a631_level0_row8\" class=\"row_heading level0 row8\" >Johnson High School</th>\n",
       "                        <td id=\"T_6a631_row8_col0\" class=\"data row8 col0\" >81.4</td>\n",
       "                        <td id=\"T_6a631_row8_col1\" class=\"data row8 col1\" >80.7</td>\n",
       "                        <td id=\"T_6a631_row8_col2\" class=\"data row8 col2\" >80.6</td>\n",
       "                        <td id=\"T_6a631_row8_col3\" class=\"data row8 col3\" >80.8</td>\n",
       "            </tr>\n",
       "            <tr>\n",
       "                        <th id=\"T_6a631_level0_row9\" class=\"row_heading level0 row9\" >Pena High School</th>\n",
       "                        <td id=\"T_6a631_row9_col0\" class=\"data row9 col0\" >84.5</td>\n",
       "                        <td id=\"T_6a631_row9_col1\" class=\"data row9 col1\" >83.2</td>\n",
       "                        <td id=\"T_6a631_row9_col2\" class=\"data row9 col2\" >84.2</td>\n",
       "                        <td id=\"T_6a631_row9_col3\" class=\"data row9 col3\" >84.6</td>\n",
       "            </tr>\n",
       "            <tr>\n",
       "                        <th id=\"T_6a631_level0_row10\" class=\"row_heading level0 row10\" >Rodriguez High School</th>\n",
       "                        <td id=\"T_6a631_row10_col0\" class=\"data row10 col0\" >80.6</td>\n",
       "                        <td id=\"T_6a631_row10_col1\" class=\"data row10 col1\" >80.6</td>\n",
       "                        <td id=\"T_6a631_row10_col2\" class=\"data row10 col2\" >81.1</td>\n",
       "                        <td id=\"T_6a631_row10_col3\" class=\"data row10 col3\" >80.2</td>\n",
       "            </tr>\n",
       "            <tr>\n",
       "                        <th id=\"T_6a631_level0_row11\" class=\"row_heading level0 row11\" >Shelton High School</th>\n",
       "                        <td id=\"T_6a631_row11_col0\" class=\"data row11 col0\" >84.6</td>\n",
       "                        <td id=\"T_6a631_row11_col1\" class=\"data row11 col1\" >82.4</td>\n",
       "                        <td id=\"T_6a631_row11_col2\" class=\"data row11 col2\" >84.6</td>\n",
       "                        <td id=\"T_6a631_row11_col3\" class=\"data row11 col3\" >81.6</td>\n",
       "            </tr>\n",
       "            <tr>\n",
       "                        <th id=\"T_6a631_level0_row12\" class=\"row_heading level0 row12\" >Thomas High School</th>\n",
       "                        <td id=\"T_6a631_row12_col0\" class=\"data row12 col0\" >83.9</td>\n",
       "                        <td id=\"T_6a631_row12_col1\" class=\"data row12 col1\" >84.4</td>\n",
       "                        <td id=\"T_6a631_row12_col2\" class=\"data row12 col2\" >84.4</td>\n",
       "                        <td id=\"T_6a631_row12_col3\" class=\"data row12 col3\" >83.3</td>\n",
       "            </tr>\n",
       "            <tr>\n",
       "                        <th id=\"T_6a631_level0_row13\" class=\"row_heading level0 row13\" >Wilson High School</th>\n",
       "                        <td id=\"T_6a631_row13_col0\" class=\"data row13 col0\" >84.0</td>\n",
       "                        <td id=\"T_6a631_row13_col1\" class=\"data row13 col1\" >84.0</td>\n",
       "                        <td id=\"T_6a631_row13_col2\" class=\"data row13 col2\" >83.7</td>\n",
       "                        <td id=\"T_6a631_row13_col3\" class=\"data row13 col3\" >83.9</td>\n",
       "            </tr>\n",
       "            <tr>\n",
       "                        <th id=\"T_6a631_level0_row14\" class=\"row_heading level0 row14\" >Wright High School</th>\n",
       "                        <td id=\"T_6a631_row14_col0\" class=\"data row14 col0\" >83.3</td>\n",
       "                        <td id=\"T_6a631_row14_col1\" class=\"data row14 col1\" >84.0</td>\n",
       "                        <td id=\"T_6a631_row14_col2\" class=\"data row14 col2\" >84.2</td>\n",
       "                        <td id=\"T_6a631_row14_col3\" class=\"data row14 col3\" >83.6</td>\n",
       "            </tr>\n",
       "    </tbody></table>"
      ],
      "text/plain": [
       "<pandas.io.formats.style.Styler at 0x7fd3186c0a00>"
      ]
     },
     "execution_count": 33,
     "metadata": {},
     "output_type": "execute_result"
    }
   ],
   "source": [
    "G9_read_data = cs_df.loc[(cs_df[\"reading_score\"]) & (cs_df[\"grade\"]==\"9th\"),:]\n",
    "G9_read = G9_read_data.groupby(\"school_name\")[\"reading_score\"].mean()\n",
    "G9_read\n",
    "\n",
    "G10_read_data = cs_df.loc[(cs_df[\"reading_score\"]) & (cs_df[\"grade\"]==\"10th\"),:]\n",
    "G10_read = G10_read_data.groupby(\"school_name\")[\"reading_score\"].mean()\n",
    "G10_read\n",
    "\n",
    "G11_read_data = cs_df.loc[(cs_df[\"reading_score\"]) & (cs_df[\"grade\"]==\"11th\"),:]\n",
    "G11_read = G11_read_data.groupby(\"school_name\")[\"reading_score\"].mean()\n",
    "G11_read\n",
    "\n",
    "G12_read_data = cs_df.loc[(cs_df[\"reading_score\"]) & (cs_df[\"grade\"]==\"12th\"),:]\n",
    "G12_read = G12_read_data.groupby(\"school_name\")[\"reading_score\"].mean()\n",
    "G12_read\n",
    "\n",
    "#Calculate reading averages per grade\n",
    "\n",
    "read_df = pd.DataFrame({\"9th\":G9_read,\"10th\":G10_read,\"11th\":G11_read,\n",
    "              \"12th\":G12_read\n",
    "               }).rename_axis(\"\")\n",
    "\n",
    "read_df.style.format(style_dict)\n",
    "\n",
    "#Collect reading averages per grade into a stylish dataframe"
   ]
  },
  {
   "cell_type": "markdown",
   "id": "09a2332a-8519-42fd-80b1-6dfd5f9cd453",
   "metadata": {},
   "source": [
    "# Scores by School Spending"
   ]
  },
  {
   "cell_type": "code",
   "execution_count": 34,
   "id": "d557eb74-3b51-4119-a7d0-04402f8d81fd",
   "metadata": {},
   "outputs": [
    {
     "data": {
      "text/html": [
       "<style  type=\"text/css\" >\n",
       "</style><table id=\"T_b4480_\" ><thead>    <tr>        <th class=\"blank level0\" ></th>        <th class=\"col_heading level0 col0\" >Average Math</th>        <th class=\"col_heading level0 col1\" >Average Reading</th>        <th class=\"col_heading level0 col2\" >% Passing Math</th>        <th class=\"col_heading level0 col3\" >% Passing Reading</th>        <th class=\"col_heading level0 col4\" >% Passing Overall</th>    </tr>    <tr>        <th class=\"index_name level0\" >Spending Per Student</th>        <th class=\"blank\" ></th>        <th class=\"blank\" ></th>        <th class=\"blank\" ></th>        <th class=\"blank\" ></th>        <th class=\"blank\" ></th>    </tr></thead><tbody>\n",
       "                <tr>\n",
       "                        <th id=\"T_b4480_level0_row0\" class=\"row_heading level0 row0\" ><$600</th>\n",
       "                        <td id=\"T_b4480_row0_col0\" class=\"data row0 col0\" >83.4</td>\n",
       "                        <td id=\"T_b4480_row0_col1\" class=\"data row0 col1\" >83.9</td>\n",
       "                        <td id=\"T_b4480_row0_col2\" class=\"data row0 col2\" >93.5%</td>\n",
       "                        <td id=\"T_b4480_row0_col3\" class=\"data row0 col3\" >96.5%</td>\n",
       "                        <td id=\"T_b4480_row0_col4\" class=\"data row0 col4\" >90.3%</td>\n",
       "            </tr>\n",
       "            <tr>\n",
       "                        <th id=\"T_b4480_level0_row1\" class=\"row_heading level0 row1\" >$600 - 620</th>\n",
       "                        <td id=\"T_b4480_row1_col0\" class=\"data row1 col0\" >83.8</td>\n",
       "                        <td id=\"T_b4480_row1_col1\" class=\"data row1 col1\" >84.0</td>\n",
       "                        <td id=\"T_b4480_row1_col2\" class=\"data row1 col2\" >94.6%</td>\n",
       "                        <td id=\"T_b4480_row1_col3\" class=\"data row1 col3\" >95.9%</td>\n",
       "                        <td id=\"T_b4480_row1_col4\" class=\"data row1 col4\" >90.5%</td>\n",
       "            </tr>\n",
       "            <tr>\n",
       "                        <th id=\"T_b4480_level0_row2\" class=\"row_heading level0 row2\" >$620 - 640</th>\n",
       "                        <td id=\"T_b4480_row2_col0\" class=\"data row2 col0\" >79.5</td>\n",
       "                        <td id=\"T_b4480_row2_col1\" class=\"data row2 col1\" >82.1</td>\n",
       "                        <td id=\"T_b4480_row2_col2\" class=\"data row2 col2\" >77.1%</td>\n",
       "                        <td id=\"T_b4480_row2_col3\" class=\"data row2 col3\" >87.5%</td>\n",
       "                        <td id=\"T_b4480_row2_col4\" class=\"data row2 col4\" >68.5%</td>\n",
       "            </tr>\n",
       "            <tr>\n",
       "                        <th id=\"T_b4480_level0_row3\" class=\"row_heading level0 row3\" >$640 - 660</th>\n",
       "                        <td id=\"T_b4480_row3_col0\" class=\"data row3 col0\" >77.0</td>\n",
       "                        <td id=\"T_b4480_row3_col1\" class=\"data row3 col1\" >81.0</td>\n",
       "                        <td id=\"T_b4480_row3_col2\" class=\"data row3 col2\" >66.7%</td>\n",
       "                        <td id=\"T_b4480_row3_col3\" class=\"data row3 col3\" >80.7%</td>\n",
       "                        <td id=\"T_b4480_row3_col4\" class=\"data row3 col4\" >53.7%</td>\n",
       "            </tr>\n",
       "    </tbody></table>"
      ],
      "text/plain": [
       "<pandas.io.formats.style.Styler at 0x7fd33a5fadf0>"
      ]
     },
     "execution_count": 34,
     "metadata": {},
     "output_type": "execute_result"
    }
   ],
   "source": [
    "bins = [0, 600, 620, 640, 660]\n",
    "group_labels = [\"<$600\", \"$600 - 620\", \"$620 - 640\", \"$640 - 660\"]\n",
    "schools_df[\"Spending Per Student\"] = pd.cut(schools_df[\"Per Student Budget\"], bins, labels=group_labels, include_lowest=True) \n",
    "\n",
    "#Cut dataframe into bins of spending per student\n",
    "\n",
    "schools_df2 = schools_df.drop(columns=[\"Total Students\",\"Per Student Budget\",\"Total Budget\"])\n",
    "scores_range = schools_df2.groupby(\"Spending Per Student\").mean()\n",
    "scores_range.style.format(style_dict)\n",
    "\n",
    "#Reorganize dataframe by new index"
   ]
  },
  {
   "cell_type": "markdown",
   "id": "1614b0ee-600b-4552-9827-def9091b7962",
   "metadata": {},
   "source": [
    "# Scores by Schoool Size"
   ]
  },
  {
   "cell_type": "code",
   "execution_count": 35,
   "id": "d0a388a5-61a6-498f-b608-1d09bea19ef4",
   "metadata": {
    "tags": []
   },
   "outputs": [
    {
     "data": {
      "text/html": [
       "<style  type=\"text/css\" >\n",
       "</style><table id=\"T_aedf4_\" ><thead>    <tr>        <th class=\"blank level0\" ></th>        <th class=\"col_heading level0 col0\" >Average Math</th>        <th class=\"col_heading level0 col1\" >Average Reading</th>        <th class=\"col_heading level0 col2\" >% Passing Math</th>        <th class=\"col_heading level0 col3\" >% Passing Reading</th>        <th class=\"col_heading level0 col4\" >% Passing Overall</th>    </tr>    <tr>        <th class=\"index_name level0\" >Student Body</th>        <th class=\"blank\" ></th>        <th class=\"blank\" ></th>        <th class=\"blank\" ></th>        <th class=\"blank\" ></th>        <th class=\"blank\" ></th>    </tr></thead><tbody>\n",
       "                <tr>\n",
       "                        <th id=\"T_aedf4_level0_row0\" class=\"row_heading level0 row0\" ><1000</th>\n",
       "                        <td id=\"T_aedf4_row0_col0\" class=\"data row0 col0\" >83.8</td>\n",
       "                        <td id=\"T_aedf4_row0_col1\" class=\"data row0 col1\" >83.9</td>\n",
       "                        <td id=\"T_aedf4_row0_col2\" class=\"data row0 col2\" >93.6%</td>\n",
       "                        <td id=\"T_aedf4_row0_col3\" class=\"data row0 col3\" >96.1%</td>\n",
       "                        <td id=\"T_aedf4_row0_col4\" class=\"data row0 col4\" >89.9%</td>\n",
       "            </tr>\n",
       "            <tr>\n",
       "                        <th id=\"T_aedf4_level0_row1\" class=\"row_heading level0 row1\" >1000-2000</th>\n",
       "                        <td id=\"T_aedf4_row1_col0\" class=\"data row1 col0\" >83.4</td>\n",
       "                        <td id=\"T_aedf4_row1_col1\" class=\"data row1 col1\" >83.9</td>\n",
       "                        <td id=\"T_aedf4_row1_col2\" class=\"data row1 col2\" >93.6%</td>\n",
       "                        <td id=\"T_aedf4_row1_col3\" class=\"data row1 col3\" >96.8%</td>\n",
       "                        <td id=\"T_aedf4_row1_col4\" class=\"data row1 col4\" >90.6%</td>\n",
       "            </tr>\n",
       "            <tr>\n",
       "                        <th id=\"T_aedf4_level0_row2\" class=\"row_heading level0 row2\" >2000-3000</th>\n",
       "                        <td id=\"T_aedf4_row2_col0\" class=\"data row2 col0\" >78.4</td>\n",
       "                        <td id=\"T_aedf4_row2_col1\" class=\"data row2 col1\" >81.8</td>\n",
       "                        <td id=\"T_aedf4_row2_col2\" class=\"data row2 col2\" >73.5%</td>\n",
       "                        <td id=\"T_aedf4_row2_col3\" class=\"data row2 col3\" >84.5%</td>\n",
       "                        <td id=\"T_aedf4_row2_col4\" class=\"data row2 col4\" >62.9%</td>\n",
       "            </tr>\n",
       "            <tr>\n",
       "                        <th id=\"T_aedf4_level0_row3\" class=\"row_heading level0 row3\" >3000-4000</th>\n",
       "                        <td id=\"T_aedf4_row3_col0\" class=\"data row3 col0\" >76.8</td>\n",
       "                        <td id=\"T_aedf4_row3_col1\" class=\"data row3 col1\" >80.7</td>\n",
       "                        <td id=\"T_aedf4_row3_col2\" class=\"data row3 col2\" >66.4%</td>\n",
       "                        <td id=\"T_aedf4_row3_col3\" class=\"data row3 col3\" >80.2%</td>\n",
       "                        <td id=\"T_aedf4_row3_col4\" class=\"data row3 col4\" >53.0%</td>\n",
       "            </tr>\n",
       "            <tr>\n",
       "                        <th id=\"T_aedf4_level0_row4\" class=\"row_heading level0 row4\" >4000-5000</th>\n",
       "                        <td id=\"T_aedf4_row4_col0\" class=\"data row4 col0\" >77.1</td>\n",
       "                        <td id=\"T_aedf4_row4_col1\" class=\"data row4 col1\" >81.0</td>\n",
       "                        <td id=\"T_aedf4_row4_col2\" class=\"data row4 col2\" >66.5%</td>\n",
       "                        <td id=\"T_aedf4_row4_col3\" class=\"data row4 col3\" >81.3%</td>\n",
       "                        <td id=\"T_aedf4_row4_col4\" class=\"data row4 col4\" >53.9%</td>\n",
       "            </tr>\n",
       "    </tbody></table>"
      ],
      "text/plain": [
       "<pandas.io.formats.style.Styler at 0x7fd33a5faa60>"
      ]
     },
     "execution_count": 35,
     "metadata": {},
     "output_type": "execute_result"
    }
   ],
   "source": [
    "bins = [0, 1000, 2000, 3000, 4000, 5000]\n",
    "group_labels = [\"<1000\", \"1000-2000\", \"2000-3000\",\"3000-4000\",\"4000-5000\"]\n",
    "\n",
    "schools_df[\"Student Body\"] = pd.cut(schools_df[\"Total Students\"], bins, labels=group_labels, include_lowest=True) \n",
    "schools_df3 = schools_df.drop(columns=[\"School Type\",\"Per Student Budget\",\"Total Budget\",\"Total Students\",\"Spending Per Student\"])\n",
    "student_sizes = schools_df3.groupby(\"Student Body\")\n",
    "student_sizes.mean().style.format(style_dict)"
   ]
  },
  {
   "cell_type": "markdown",
   "id": "38cdecb1-4f56-4503-ba16-72a4ab45341e",
   "metadata": {},
   "source": [
    "# Scores by School Type"
   ]
  },
  {
   "cell_type": "code",
   "execution_count": 36,
   "id": "091ee339-43ca-44f6-bcdf-269beb73b056",
   "metadata": {},
   "outputs": [
    {
     "data": {
      "text/html": [
       "<style  type=\"text/css\" >\n",
       "</style><table id=\"T_b67d0_\" ><thead>    <tr>        <th class=\"blank level0\" ></th>        <th class=\"col_heading level0 col0\" >Average Math</th>        <th class=\"col_heading level0 col1\" >Average Reading</th>        <th class=\"col_heading level0 col2\" >% Passing Math</th>        <th class=\"col_heading level0 col3\" >% Passing Reading</th>        <th class=\"col_heading level0 col4\" >% Passing Overall</th>    </tr>    <tr>        <th class=\"index_name level0\" >School Type</th>        <th class=\"blank\" ></th>        <th class=\"blank\" ></th>        <th class=\"blank\" ></th>        <th class=\"blank\" ></th>        <th class=\"blank\" ></th>    </tr></thead><tbody>\n",
       "                <tr>\n",
       "                        <th id=\"T_b67d0_level0_row0\" class=\"row_heading level0 row0\" >Charter</th>\n",
       "                        <td id=\"T_b67d0_row0_col0\" class=\"data row0 col0\" >83.8</td>\n",
       "                        <td id=\"T_b67d0_row0_col1\" class=\"data row0 col1\" >84.0</td>\n",
       "                        <td id=\"T_b67d0_row0_col2\" class=\"data row0 col2\" >94.6%</td>\n",
       "                        <td id=\"T_b67d0_row0_col3\" class=\"data row0 col3\" >97.3%</td>\n",
       "                        <td id=\"T_b67d0_row0_col4\" class=\"data row0 col4\" >91.3%</td>\n",
       "            </tr>\n",
       "            <tr>\n",
       "                        <th id=\"T_b67d0_level0_row1\" class=\"row_heading level0 row1\" >District</th>\n",
       "                        <td id=\"T_b67d0_row1_col0\" class=\"data row1 col0\" >77.3</td>\n",
       "                        <td id=\"T_b67d0_row1_col1\" class=\"data row1 col1\" >81.2</td>\n",
       "                        <td id=\"T_b67d0_row1_col2\" class=\"data row1 col2\" >68.3%</td>\n",
       "                        <td id=\"T_b67d0_row1_col3\" class=\"data row1 col3\" >81.9%</td>\n",
       "                        <td id=\"T_b67d0_row1_col4\" class=\"data row1 col4\" >54.6%</td>\n",
       "            </tr>\n",
       "    </tbody></table>"
      ],
      "text/plain": [
       "<pandas.io.formats.style.Styler at 0x7fd319181bb0>"
      ]
     },
     "execution_count": 36,
     "metadata": {},
     "output_type": "execute_result"
    }
   ],
   "source": [
    "schools_df3 = schools_df2.drop(columns=[\"Spending Per Student\"])\n",
    "schools_type = schools_df3.groupby(\"School Type\")\n",
    "schools_type.max().style.format(style_dict)"
   ]
  },
  {
   "cell_type": "markdown",
   "id": "3e9c0695-c235-4309-b1c1-352f5ba047f7",
   "metadata": {},
   "source": [
    "# Additional Data Points"
   ]
  },
  {
   "cell_type": "markdown",
   "id": "b852bc65-1914-454b-9268-036732e42a8d",
   "metadata": {},
   "source": [
    "### Overall Passing by Student Percent of Budget"
   ]
  },
  {
   "cell_type": "code",
   "execution_count": 52,
   "id": "c5bcf934-8e50-4415-8f42-d219e918839b",
   "metadata": {},
   "outputs": [
    {
     "data": {
      "text/html": [
       "<style  type=\"text/css\" >\n",
       "</style><table id=\"T_7e9eb_\" ><thead>    <tr>        <th class=\"blank level0\" ></th>        <th class=\"col_heading level0 col0\" >% Passing Overall</th>        <th class=\"col_heading level0 col1\" >Student % Budget</th>        <th class=\"col_heading level0 col2\" >School Type</th>        <th class=\"col_heading level0 col3\" >Total Students</th>    </tr>    <tr>        <th class=\"index_name level0\" ></th>        <th class=\"blank\" ></th>        <th class=\"blank\" ></th>        <th class=\"blank\" ></th>        <th class=\"blank\" ></th>    </tr></thead><tbody>\n",
       "                <tr>\n",
       "                        <th id=\"T_7e9eb_level0_row0\" class=\"row_heading level0 row0\" >Rodriguez High School</th>\n",
       "                        <td id=\"T_7e9eb_row0_col0\" class=\"data row0 col0\" >53.0%</td>\n",
       "                        <td id=\"T_7e9eb_row0_col1\" class=\"data row0 col1\" >0.03%</td>\n",
       "                        <td id=\"T_7e9eb_row0_col2\" class=\"data row0 col2\" >District</td>\n",
       "                        <td id=\"T_7e9eb_row0_col3\" class=\"data row0 col3\" >3,999</td>\n",
       "            </tr>\n",
       "            <tr>\n",
       "                        <th id=\"T_7e9eb_level0_row1\" class=\"row_heading level0 row1\" >Figueroa High School</th>\n",
       "                        <td id=\"T_7e9eb_row1_col0\" class=\"data row1 col0\" >53.2%</td>\n",
       "                        <td id=\"T_7e9eb_row1_col1\" class=\"data row1 col1\" >0.03%</td>\n",
       "                        <td id=\"T_7e9eb_row1_col2\" class=\"data row1 col2\" >District</td>\n",
       "                        <td id=\"T_7e9eb_row1_col3\" class=\"data row1 col3\" >2,949</td>\n",
       "            </tr>\n",
       "            <tr>\n",
       "                        <th id=\"T_7e9eb_level0_row2\" class=\"row_heading level0 row2\" >Huang High School</th>\n",
       "                        <td id=\"T_7e9eb_row2_col0\" class=\"data row2 col0\" >53.5%</td>\n",
       "                        <td id=\"T_7e9eb_row2_col1\" class=\"data row2 col1\" >0.03%</td>\n",
       "                        <td id=\"T_7e9eb_row2_col2\" class=\"data row2 col2\" >District</td>\n",
       "                        <td id=\"T_7e9eb_row2_col3\" class=\"data row2 col3\" >2,917</td>\n",
       "            </tr>\n",
       "            <tr>\n",
       "                        <th id=\"T_7e9eb_level0_row3\" class=\"row_heading level0 row3\" >Hernandez High School</th>\n",
       "                        <td id=\"T_7e9eb_row3_col0\" class=\"data row3 col0\" >53.5%</td>\n",
       "                        <td id=\"T_7e9eb_row3_col1\" class=\"data row3 col1\" >0.02%</td>\n",
       "                        <td id=\"T_7e9eb_row3_col2\" class=\"data row3 col2\" >District</td>\n",
       "                        <td id=\"T_7e9eb_row3_col3\" class=\"data row3 col3\" >4,635</td>\n",
       "            </tr>\n",
       "            <tr>\n",
       "                        <th id=\"T_7e9eb_level0_row4\" class=\"row_heading level0 row4\" >Johnson High School</th>\n",
       "                        <td id=\"T_7e9eb_row4_col0\" class=\"data row4 col0\" >53.5%</td>\n",
       "                        <td id=\"T_7e9eb_row4_col1\" class=\"data row4 col1\" >0.02%</td>\n",
       "                        <td id=\"T_7e9eb_row4_col2\" class=\"data row4 col2\" >District</td>\n",
       "                        <td id=\"T_7e9eb_row4_col3\" class=\"data row4 col3\" >4,761</td>\n",
       "            </tr>\n",
       "            <tr>\n",
       "                        <th id=\"T_7e9eb_level0_row5\" class=\"row_heading level0 row5\" >Ford High School</th>\n",
       "                        <td id=\"T_7e9eb_row5_col0\" class=\"data row5 col0\" >54.3%</td>\n",
       "                        <td id=\"T_7e9eb_row5_col1\" class=\"data row5 col1\" >0.04%</td>\n",
       "                        <td id=\"T_7e9eb_row5_col2\" class=\"data row5 col2\" >District</td>\n",
       "                        <td id=\"T_7e9eb_row5_col3\" class=\"data row5 col3\" >2,739</td>\n",
       "            </tr>\n",
       "            <tr>\n",
       "                        <th id=\"T_7e9eb_level0_row6\" class=\"row_heading level0 row6\" >Bailey High School</th>\n",
       "                        <td id=\"T_7e9eb_row6_col0\" class=\"data row6 col0\" >54.6%</td>\n",
       "                        <td id=\"T_7e9eb_row6_col1\" class=\"data row6 col1\" >0.02%</td>\n",
       "                        <td id=\"T_7e9eb_row6_col2\" class=\"data row6 col2\" >District</td>\n",
       "                        <td id=\"T_7e9eb_row6_col3\" class=\"data row6 col3\" >4,976</td>\n",
       "            </tr>\n",
       "            <tr>\n",
       "                        <th id=\"T_7e9eb_level0_row7\" class=\"row_heading level0 row7\" >Holden High School</th>\n",
       "                        <td id=\"T_7e9eb_row7_col0\" class=\"data row7 col0\" >89.2%</td>\n",
       "                        <td id=\"T_7e9eb_row7_col1\" class=\"data row7 col1\" >0.23%</td>\n",
       "                        <td id=\"T_7e9eb_row7_col2\" class=\"data row7 col2\" >Charter</td>\n",
       "                        <td id=\"T_7e9eb_row7_col3\" class=\"data row7 col3\" >427</td>\n",
       "            </tr>\n",
       "            <tr>\n",
       "                        <th id=\"T_7e9eb_level0_row8\" class=\"row_heading level0 row8\" >Shelton High School</th>\n",
       "                        <td id=\"T_7e9eb_row8_col0\" class=\"data row8 col0\" >89.9%</td>\n",
       "                        <td id=\"T_7e9eb_row8_col1\" class=\"data row8 col1\" >0.06%</td>\n",
       "                        <td id=\"T_7e9eb_row8_col2\" class=\"data row8 col2\" >Charter</td>\n",
       "                        <td id=\"T_7e9eb_row8_col3\" class=\"data row8 col3\" >1,761</td>\n",
       "            </tr>\n",
       "            <tr>\n",
       "                        <th id=\"T_7e9eb_level0_row9\" class=\"row_heading level0 row9\" >Wright High School</th>\n",
       "                        <td id=\"T_7e9eb_row9_col0\" class=\"data row9 col0\" >90.3%</td>\n",
       "                        <td id=\"T_7e9eb_row9_col1\" class=\"data row9 col1\" >0.06%</td>\n",
       "                        <td id=\"T_7e9eb_row9_col2\" class=\"data row9 col2\" >Charter</td>\n",
       "                        <td id=\"T_7e9eb_row9_col3\" class=\"data row9 col3\" >1,800</td>\n",
       "            </tr>\n",
       "            <tr>\n",
       "                        <th id=\"T_7e9eb_level0_row10\" class=\"row_heading level0 row10\" >Pena High School</th>\n",
       "                        <td id=\"T_7e9eb_row10_col0\" class=\"data row10 col0\" >90.5%</td>\n",
       "                        <td id=\"T_7e9eb_row10_col1\" class=\"data row10 col1\" >0.10%</td>\n",
       "                        <td id=\"T_7e9eb_row10_col2\" class=\"data row10 col2\" >Charter</td>\n",
       "                        <td id=\"T_7e9eb_row10_col3\" class=\"data row10 col3\" >962</td>\n",
       "            </tr>\n",
       "            <tr>\n",
       "                        <th id=\"T_7e9eb_level0_row11\" class=\"row_heading level0 row11\" >Wilson High School</th>\n",
       "                        <td id=\"T_7e9eb_row11_col0\" class=\"data row11 col0\" >90.6%</td>\n",
       "                        <td id=\"T_7e9eb_row11_col1\" class=\"data row11 col1\" >0.04%</td>\n",
       "                        <td id=\"T_7e9eb_row11_col2\" class=\"data row11 col2\" >Charter</td>\n",
       "                        <td id=\"T_7e9eb_row11_col3\" class=\"data row11 col3\" >2,283</td>\n",
       "            </tr>\n",
       "            <tr>\n",
       "                        <th id=\"T_7e9eb_level0_row12\" class=\"row_heading level0 row12\" >Griffin High School</th>\n",
       "                        <td id=\"T_7e9eb_row12_col0\" class=\"data row12 col0\" >90.6%</td>\n",
       "                        <td id=\"T_7e9eb_row12_col1\" class=\"data row12 col1\" >0.07%</td>\n",
       "                        <td id=\"T_7e9eb_row12_col2\" class=\"data row12 col2\" >Charter</td>\n",
       "                        <td id=\"T_7e9eb_row12_col3\" class=\"data row12 col3\" >1,468</td>\n",
       "            </tr>\n",
       "            <tr>\n",
       "                        <th id=\"T_7e9eb_level0_row13\" class=\"row_heading level0 row13\" >Thomas High School</th>\n",
       "                        <td id=\"T_7e9eb_row13_col0\" class=\"data row13 col0\" >90.9%</td>\n",
       "                        <td id=\"T_7e9eb_row13_col1\" class=\"data row13 col1\" >0.06%</td>\n",
       "                        <td id=\"T_7e9eb_row13_col2\" class=\"data row13 col2\" >Charter</td>\n",
       "                        <td id=\"T_7e9eb_row13_col3\" class=\"data row13 col3\" >1,635</td>\n",
       "            </tr>\n",
       "            <tr>\n",
       "                        <th id=\"T_7e9eb_level0_row14\" class=\"row_heading level0 row14\" >Cabrera High School</th>\n",
       "                        <td id=\"T_7e9eb_row14_col0\" class=\"data row14 col0\" >91.3%</td>\n",
       "                        <td id=\"T_7e9eb_row14_col1\" class=\"data row14 col1\" >0.05%</td>\n",
       "                        <td id=\"T_7e9eb_row14_col2\" class=\"data row14 col2\" >Charter</td>\n",
       "                        <td id=\"T_7e9eb_row14_col3\" class=\"data row14 col3\" >1,858</td>\n",
       "            </tr>\n",
       "    </tbody></table>"
      ],
      "text/plain": [
       "<pandas.io.formats.style.Styler at 0x7fd33b8f12e0>"
      ]
     },
     "execution_count": 52,
     "metadata": {},
     "output_type": "execute_result"
    }
   ],
   "source": [
    "school_budget_prc = (school_budget_per_student/school_budget)*100\n",
    "school_budget_prc\n",
    "\n",
    "budget_pass_type_df = pd.DataFrame({\"% Passing Overall\":school_prc_pass_read_math,\"Student % Budget\":school_budget_prc,\"School Type\":school_type,\"Total Students\":school_students\n",
    "               }).rename_axis(\"\").sort_values(\"% Passing Overall\")\n",
    "\n",
    "budget_pass_type_df.style.format(style_dict)"
   ]
  },
  {
   "cell_type": "markdown",
   "id": "706a0ab8-86a8-4e41-a534-0f756680098a",
   "metadata": {},
   "source": [
    "### Average Scores by Type and Spending Per Student"
   ]
  },
  {
   "cell_type": "code",
   "execution_count": 53,
   "id": "22452158-df33-46f9-aa4a-ab449a375b5f",
   "metadata": {},
   "outputs": [
    {
     "data": {
      "text/html": [
       "<style  type=\"text/css\" >\n",
       "</style><table id=\"T_584ba_\" ><thead>    <tr>        <th class=\"blank level0\" ></th>        <th class=\"col_heading level0 col0\" >School Type</th>        <th class=\"col_heading level0 col1\" >Per Student Budget</th>        <th class=\"col_heading level0 col2\" >Average Math</th>        <th class=\"col_heading level0 col3\" >Average Reading</th>    </tr>    <tr>        <th class=\"index_name level0\" ></th>        <th class=\"blank\" ></th>        <th class=\"blank\" ></th>        <th class=\"blank\" ></th>        <th class=\"blank\" ></th>    </tr></thead><tbody>\n",
       "                <tr>\n",
       "                        <th id=\"T_584ba_level0_row0\" class=\"row_heading level0 row0\" >Wilson High School</th>\n",
       "                        <td id=\"T_584ba_row0_col0\" class=\"data row0 col0\" >Charter</td>\n",
       "                        <td id=\"T_584ba_row0_col1\" class=\"data row0 col1\" >$578.0</td>\n",
       "                        <td id=\"T_584ba_row0_col2\" class=\"data row0 col2\" >83.3</td>\n",
       "                        <td id=\"T_584ba_row0_col3\" class=\"data row0 col3\" >84.0</td>\n",
       "            </tr>\n",
       "            <tr>\n",
       "                        <th id=\"T_584ba_level0_row1\" class=\"row_heading level0 row1\" >Holden High School</th>\n",
       "                        <td id=\"T_584ba_row1_col0\" class=\"data row1 col0\" >Charter</td>\n",
       "                        <td id=\"T_584ba_row1_col1\" class=\"data row1 col1\" >$581.0</td>\n",
       "                        <td id=\"T_584ba_row1_col2\" class=\"data row1 col2\" >83.8</td>\n",
       "                        <td id=\"T_584ba_row1_col3\" class=\"data row1 col3\" >83.8</td>\n",
       "            </tr>\n",
       "            <tr>\n",
       "                        <th id=\"T_584ba_level0_row2\" class=\"row_heading level0 row2\" >Cabrera High School</th>\n",
       "                        <td id=\"T_584ba_row2_col0\" class=\"data row2 col0\" >Charter</td>\n",
       "                        <td id=\"T_584ba_row2_col1\" class=\"data row2 col1\" >$582.0</td>\n",
       "                        <td id=\"T_584ba_row2_col2\" class=\"data row2 col2\" >83.1</td>\n",
       "                        <td id=\"T_584ba_row2_col3\" class=\"data row2 col3\" >84.0</td>\n",
       "            </tr>\n",
       "            <tr>\n",
       "                        <th id=\"T_584ba_level0_row3\" class=\"row_heading level0 row3\" >Wright High School</th>\n",
       "                        <td id=\"T_584ba_row3_col0\" class=\"data row3 col0\" >Charter</td>\n",
       "                        <td id=\"T_584ba_row3_col1\" class=\"data row3 col1\" >$583.0</td>\n",
       "                        <td id=\"T_584ba_row3_col2\" class=\"data row3 col2\" >83.7</td>\n",
       "                        <td id=\"T_584ba_row3_col3\" class=\"data row3 col3\" >84.0</td>\n",
       "            </tr>\n",
       "            <tr>\n",
       "                        <th id=\"T_584ba_level0_row4\" class=\"row_heading level0 row4\" >Shelton High School</th>\n",
       "                        <td id=\"T_584ba_row4_col0\" class=\"data row4 col0\" >Charter</td>\n",
       "                        <td id=\"T_584ba_row4_col1\" class=\"data row4 col1\" >$600.0</td>\n",
       "                        <td id=\"T_584ba_row4_col2\" class=\"data row4 col2\" >83.4</td>\n",
       "                        <td id=\"T_584ba_row4_col3\" class=\"data row4 col3\" >83.7</td>\n",
       "            </tr>\n",
       "            <tr>\n",
       "                        <th id=\"T_584ba_level0_row5\" class=\"row_heading level0 row5\" >Pena High School</th>\n",
       "                        <td id=\"T_584ba_row5_col0\" class=\"data row5 col0\" >Charter</td>\n",
       "                        <td id=\"T_584ba_row5_col1\" class=\"data row5 col1\" >$609.0</td>\n",
       "                        <td id=\"T_584ba_row5_col2\" class=\"data row5 col2\" >83.8</td>\n",
       "                        <td id=\"T_584ba_row5_col3\" class=\"data row5 col3\" >84.0</td>\n",
       "            </tr>\n",
       "            <tr>\n",
       "                        <th id=\"T_584ba_level0_row6\" class=\"row_heading level0 row6\" >Griffin High School</th>\n",
       "                        <td id=\"T_584ba_row6_col0\" class=\"data row6 col0\" >Charter</td>\n",
       "                        <td id=\"T_584ba_row6_col1\" class=\"data row6 col1\" >$625.0</td>\n",
       "                        <td id=\"T_584ba_row6_col2\" class=\"data row6 col2\" >83.4</td>\n",
       "                        <td id=\"T_584ba_row6_col3\" class=\"data row6 col3\" >83.8</td>\n",
       "            </tr>\n",
       "            <tr>\n",
       "                        <th id=\"T_584ba_level0_row7\" class=\"row_heading level0 row7\" >Bailey High School</th>\n",
       "                        <td id=\"T_584ba_row7_col0\" class=\"data row7 col0\" >District</td>\n",
       "                        <td id=\"T_584ba_row7_col1\" class=\"data row7 col1\" >$628.0</td>\n",
       "                        <td id=\"T_584ba_row7_col2\" class=\"data row7 col2\" >77.0</td>\n",
       "                        <td id=\"T_584ba_row7_col3\" class=\"data row7 col3\" >81.0</td>\n",
       "            </tr>\n",
       "            <tr>\n",
       "                        <th id=\"T_584ba_level0_row8\" class=\"row_heading level0 row8\" >Rodriguez High School</th>\n",
       "                        <td id=\"T_584ba_row8_col0\" class=\"data row8 col0\" >District</td>\n",
       "                        <td id=\"T_584ba_row8_col1\" class=\"data row8 col1\" >$637.0</td>\n",
       "                        <td id=\"T_584ba_row8_col2\" class=\"data row8 col2\" >76.8</td>\n",
       "                        <td id=\"T_584ba_row8_col3\" class=\"data row8 col3\" >80.7</td>\n",
       "            </tr>\n",
       "            <tr>\n",
       "                        <th id=\"T_584ba_level0_row9\" class=\"row_heading level0 row9\" >Thomas High School</th>\n",
       "                        <td id=\"T_584ba_row9_col0\" class=\"data row9 col0\" >Charter</td>\n",
       "                        <td id=\"T_584ba_row9_col1\" class=\"data row9 col1\" >$638.0</td>\n",
       "                        <td id=\"T_584ba_row9_col2\" class=\"data row9 col2\" >83.4</td>\n",
       "                        <td id=\"T_584ba_row9_col3\" class=\"data row9 col3\" >83.8</td>\n",
       "            </tr>\n",
       "            <tr>\n",
       "                        <th id=\"T_584ba_level0_row10\" class=\"row_heading level0 row10\" >Figueroa High School</th>\n",
       "                        <td id=\"T_584ba_row10_col0\" class=\"data row10 col0\" >District</td>\n",
       "                        <td id=\"T_584ba_row10_col1\" class=\"data row10 col1\" >$639.0</td>\n",
       "                        <td id=\"T_584ba_row10_col2\" class=\"data row10 col2\" >76.7</td>\n",
       "                        <td id=\"T_584ba_row10_col3\" class=\"data row10 col3\" >81.2</td>\n",
       "            </tr>\n",
       "            <tr>\n",
       "                        <th id=\"T_584ba_level0_row11\" class=\"row_heading level0 row11\" >Ford High School</th>\n",
       "                        <td id=\"T_584ba_row11_col0\" class=\"data row11 col0\" >District</td>\n",
       "                        <td id=\"T_584ba_row11_col1\" class=\"data row11 col1\" >$644.0</td>\n",
       "                        <td id=\"T_584ba_row11_col2\" class=\"data row11 col2\" >77.1</td>\n",
       "                        <td id=\"T_584ba_row11_col3\" class=\"data row11 col3\" >80.7</td>\n",
       "            </tr>\n",
       "            <tr>\n",
       "                        <th id=\"T_584ba_level0_row12\" class=\"row_heading level0 row12\" >Johnson High School</th>\n",
       "                        <td id=\"T_584ba_row12_col0\" class=\"data row12 col0\" >District</td>\n",
       "                        <td id=\"T_584ba_row12_col1\" class=\"data row12 col1\" >$650.0</td>\n",
       "                        <td id=\"T_584ba_row12_col2\" class=\"data row12 col2\" >77.1</td>\n",
       "                        <td id=\"T_584ba_row12_col3\" class=\"data row12 col3\" >81.0</td>\n",
       "            </tr>\n",
       "            <tr>\n",
       "                        <th id=\"T_584ba_level0_row13\" class=\"row_heading level0 row13\" >Hernandez High School</th>\n",
       "                        <td id=\"T_584ba_row13_col0\" class=\"data row13 col0\" >District</td>\n",
       "                        <td id=\"T_584ba_row13_col1\" class=\"data row13 col1\" >$652.0</td>\n",
       "                        <td id=\"T_584ba_row13_col2\" class=\"data row13 col2\" >77.3</td>\n",
       "                        <td id=\"T_584ba_row13_col3\" class=\"data row13 col3\" >80.9</td>\n",
       "            </tr>\n",
       "            <tr>\n",
       "                        <th id=\"T_584ba_level0_row14\" class=\"row_heading level0 row14\" >Huang High School</th>\n",
       "                        <td id=\"T_584ba_row14_col0\" class=\"data row14 col0\" >District</td>\n",
       "                        <td id=\"T_584ba_row14_col1\" class=\"data row14 col1\" >$655.0</td>\n",
       "                        <td id=\"T_584ba_row14_col2\" class=\"data row14 col2\" >76.6</td>\n",
       "                        <td id=\"T_584ba_row14_col3\" class=\"data row14 col3\" >81.2</td>\n",
       "            </tr>\n",
       "    </tbody></table>"
      ],
      "text/plain": [
       "<pandas.io.formats.style.Styler at 0x7fd33b8f1a60>"
      ]
     },
     "execution_count": 53,
     "metadata": {},
     "output_type": "execute_result"
    }
   ],
   "source": [
    "scores_df = schools_df.drop(columns=[\"Total Students\",\"Total Budget\",\"% Passing Math\",\"% Passing Reading\",\"% Passing Overall\",\"Spending Per Student\", \"Student Body\"]).sort_values(\"Per Student Budget\")\n",
    "scores_df.style.format(style_dict)\n",
    "\n",
    "#Organize dataframe for averages, percent passing, and per student budget"
   ]
  },
  {
   "cell_type": "markdown",
   "id": "67ac8572-1d08-4aae-8436-612bae61f6ab",
   "metadata": {},
   "source": [
    "### Overall Passing by Total Students"
   ]
  },
  {
   "cell_type": "code",
   "execution_count": 54,
   "id": "720a13c1-3e71-4880-bdae-aee46505180a",
   "metadata": {},
   "outputs": [
    {
     "data": {
      "text/html": [
       "<style  type=\"text/css\" >\n",
       "</style><table id=\"T_b2121_\" ><thead>    <tr>        <th class=\"blank level0\" ></th>        <th class=\"col_heading level0 col0\" >School Type</th>        <th class=\"col_heading level0 col1\" >Total Students</th>        <th class=\"col_heading level0 col2\" >% Passing Overall</th>    </tr>    <tr>        <th class=\"index_name level0\" ></th>        <th class=\"blank\" ></th>        <th class=\"blank\" ></th>        <th class=\"blank\" ></th>    </tr></thead><tbody>\n",
       "                <tr>\n",
       "                        <th id=\"T_b2121_level0_row0\" class=\"row_heading level0 row0\" >Holden High School</th>\n",
       "                        <td id=\"T_b2121_row0_col0\" class=\"data row0 col0\" >Charter</td>\n",
       "                        <td id=\"T_b2121_row0_col1\" class=\"data row0 col1\" >427</td>\n",
       "                        <td id=\"T_b2121_row0_col2\" class=\"data row0 col2\" >89.2%</td>\n",
       "            </tr>\n",
       "            <tr>\n",
       "                        <th id=\"T_b2121_level0_row1\" class=\"row_heading level0 row1\" >Pena High School</th>\n",
       "                        <td id=\"T_b2121_row1_col0\" class=\"data row1 col0\" >Charter</td>\n",
       "                        <td id=\"T_b2121_row1_col1\" class=\"data row1 col1\" >962</td>\n",
       "                        <td id=\"T_b2121_row1_col2\" class=\"data row1 col2\" >90.5%</td>\n",
       "            </tr>\n",
       "            <tr>\n",
       "                        <th id=\"T_b2121_level0_row2\" class=\"row_heading level0 row2\" >Griffin High School</th>\n",
       "                        <td id=\"T_b2121_row2_col0\" class=\"data row2 col0\" >Charter</td>\n",
       "                        <td id=\"T_b2121_row2_col1\" class=\"data row2 col1\" >1,468</td>\n",
       "                        <td id=\"T_b2121_row2_col2\" class=\"data row2 col2\" >90.6%</td>\n",
       "            </tr>\n",
       "            <tr>\n",
       "                        <th id=\"T_b2121_level0_row3\" class=\"row_heading level0 row3\" >Thomas High School</th>\n",
       "                        <td id=\"T_b2121_row3_col0\" class=\"data row3 col0\" >Charter</td>\n",
       "                        <td id=\"T_b2121_row3_col1\" class=\"data row3 col1\" >1,635</td>\n",
       "                        <td id=\"T_b2121_row3_col2\" class=\"data row3 col2\" >90.9%</td>\n",
       "            </tr>\n",
       "            <tr>\n",
       "                        <th id=\"T_b2121_level0_row4\" class=\"row_heading level0 row4\" >Shelton High School</th>\n",
       "                        <td id=\"T_b2121_row4_col0\" class=\"data row4 col0\" >Charter</td>\n",
       "                        <td id=\"T_b2121_row4_col1\" class=\"data row4 col1\" >1,761</td>\n",
       "                        <td id=\"T_b2121_row4_col2\" class=\"data row4 col2\" >89.9%</td>\n",
       "            </tr>\n",
       "            <tr>\n",
       "                        <th id=\"T_b2121_level0_row5\" class=\"row_heading level0 row5\" >Wright High School</th>\n",
       "                        <td id=\"T_b2121_row5_col0\" class=\"data row5 col0\" >Charter</td>\n",
       "                        <td id=\"T_b2121_row5_col1\" class=\"data row5 col1\" >1,800</td>\n",
       "                        <td id=\"T_b2121_row5_col2\" class=\"data row5 col2\" >90.3%</td>\n",
       "            </tr>\n",
       "            <tr>\n",
       "                        <th id=\"T_b2121_level0_row6\" class=\"row_heading level0 row6\" >Cabrera High School</th>\n",
       "                        <td id=\"T_b2121_row6_col0\" class=\"data row6 col0\" >Charter</td>\n",
       "                        <td id=\"T_b2121_row6_col1\" class=\"data row6 col1\" >1,858</td>\n",
       "                        <td id=\"T_b2121_row6_col2\" class=\"data row6 col2\" >91.3%</td>\n",
       "            </tr>\n",
       "            <tr>\n",
       "                        <th id=\"T_b2121_level0_row7\" class=\"row_heading level0 row7\" >Wilson High School</th>\n",
       "                        <td id=\"T_b2121_row7_col0\" class=\"data row7 col0\" >Charter</td>\n",
       "                        <td id=\"T_b2121_row7_col1\" class=\"data row7 col1\" >2,283</td>\n",
       "                        <td id=\"T_b2121_row7_col2\" class=\"data row7 col2\" >90.6%</td>\n",
       "            </tr>\n",
       "            <tr>\n",
       "                        <th id=\"T_b2121_level0_row8\" class=\"row_heading level0 row8\" >Ford High School</th>\n",
       "                        <td id=\"T_b2121_row8_col0\" class=\"data row8 col0\" >District</td>\n",
       "                        <td id=\"T_b2121_row8_col1\" class=\"data row8 col1\" >2,739</td>\n",
       "                        <td id=\"T_b2121_row8_col2\" class=\"data row8 col2\" >54.3%</td>\n",
       "            </tr>\n",
       "            <tr>\n",
       "                        <th id=\"T_b2121_level0_row9\" class=\"row_heading level0 row9\" >Huang High School</th>\n",
       "                        <td id=\"T_b2121_row9_col0\" class=\"data row9 col0\" >District</td>\n",
       "                        <td id=\"T_b2121_row9_col1\" class=\"data row9 col1\" >2,917</td>\n",
       "                        <td id=\"T_b2121_row9_col2\" class=\"data row9 col2\" >53.5%</td>\n",
       "            </tr>\n",
       "            <tr>\n",
       "                        <th id=\"T_b2121_level0_row10\" class=\"row_heading level0 row10\" >Figueroa High School</th>\n",
       "                        <td id=\"T_b2121_row10_col0\" class=\"data row10 col0\" >District</td>\n",
       "                        <td id=\"T_b2121_row10_col1\" class=\"data row10 col1\" >2,949</td>\n",
       "                        <td id=\"T_b2121_row10_col2\" class=\"data row10 col2\" >53.2%</td>\n",
       "            </tr>\n",
       "            <tr>\n",
       "                        <th id=\"T_b2121_level0_row11\" class=\"row_heading level0 row11\" >Rodriguez High School</th>\n",
       "                        <td id=\"T_b2121_row11_col0\" class=\"data row11 col0\" >District</td>\n",
       "                        <td id=\"T_b2121_row11_col1\" class=\"data row11 col1\" >3,999</td>\n",
       "                        <td id=\"T_b2121_row11_col2\" class=\"data row11 col2\" >53.0%</td>\n",
       "            </tr>\n",
       "            <tr>\n",
       "                        <th id=\"T_b2121_level0_row12\" class=\"row_heading level0 row12\" >Hernandez High School</th>\n",
       "                        <td id=\"T_b2121_row12_col0\" class=\"data row12 col0\" >District</td>\n",
       "                        <td id=\"T_b2121_row12_col1\" class=\"data row12 col1\" >4,635</td>\n",
       "                        <td id=\"T_b2121_row12_col2\" class=\"data row12 col2\" >53.5%</td>\n",
       "            </tr>\n",
       "            <tr>\n",
       "                        <th id=\"T_b2121_level0_row13\" class=\"row_heading level0 row13\" >Johnson High School</th>\n",
       "                        <td id=\"T_b2121_row13_col0\" class=\"data row13 col0\" >District</td>\n",
       "                        <td id=\"T_b2121_row13_col1\" class=\"data row13 col1\" >4,761</td>\n",
       "                        <td id=\"T_b2121_row13_col2\" class=\"data row13 col2\" >53.5%</td>\n",
       "            </tr>\n",
       "            <tr>\n",
       "                        <th id=\"T_b2121_level0_row14\" class=\"row_heading level0 row14\" >Bailey High School</th>\n",
       "                        <td id=\"T_b2121_row14_col0\" class=\"data row14 col0\" >District</td>\n",
       "                        <td id=\"T_b2121_row14_col1\" class=\"data row14 col1\" >4,976</td>\n",
       "                        <td id=\"T_b2121_row14_col2\" class=\"data row14 col2\" >54.6%</td>\n",
       "            </tr>\n",
       "    </tbody></table>"
      ],
      "text/plain": [
       "<pandas.io.formats.style.Styler at 0x7fd33b903b80>"
      ]
     },
     "execution_count": 54,
     "metadata": {},
     "output_type": "execute_result"
    }
   ],
   "source": [
    "schools_sizes = schools_df.drop(columns=[\"Total Budget\",\"% Passing Math\",\"% Passing Reading\",\"Spending Per Student\", \"Per Student Budget\", \"Student Body\",\"Average Reading\",\"Average Math\"]).sort_values(\"Total Students\")\n",
    "schools_sizes.style.format(style_dict)"
   ]
  },
  {
   "cell_type": "markdown",
   "id": "8858db40-9741-4b17-9e24-ef35dd20795c",
   "metadata": {},
   "source": [
    "### Passing Overall by Student Body Size"
   ]
  },
  {
   "cell_type": "code",
   "execution_count": 55,
   "id": "22546fd6-3ec0-4071-a2fa-544a0e4f4e53",
   "metadata": {},
   "outputs": [
    {
     "data": {
      "text/html": [
       "<style  type=\"text/css\" >\n",
       "</style><table id=\"T_0bf43_\" ><thead>    <tr>        <th class=\"blank level0\" ></th>        <th class=\"col_heading level0 col0\" >School Type</th>        <th class=\"col_heading level0 col1\" >Per Student Budget</th>        <th class=\"col_heading level0 col2\" >% Passing Overall</th>    </tr>    <tr>        <th class=\"index_name level0\" >Student Body</th>        <th class=\"blank\" ></th>        <th class=\"blank\" ></th>        <th class=\"blank\" ></th>    </tr></thead><tbody>\n",
       "                <tr>\n",
       "                        <th id=\"T_0bf43_level0_row0\" class=\"row_heading level0 row0\" ><1000</th>\n",
       "                        <td id=\"T_0bf43_row0_col0\" class=\"data row0 col0\" >Charter</td>\n",
       "                        <td id=\"T_0bf43_row0_col1\" class=\"data row0 col1\" >$609.0</td>\n",
       "                        <td id=\"T_0bf43_row0_col2\" class=\"data row0 col2\" >90.5%</td>\n",
       "            </tr>\n",
       "            <tr>\n",
       "                        <th id=\"T_0bf43_level0_row1\" class=\"row_heading level0 row1\" >1000-2000</th>\n",
       "                        <td id=\"T_0bf43_row1_col0\" class=\"data row1 col0\" >Charter</td>\n",
       "                        <td id=\"T_0bf43_row1_col1\" class=\"data row1 col1\" >$638.0</td>\n",
       "                        <td id=\"T_0bf43_row1_col2\" class=\"data row1 col2\" >91.3%</td>\n",
       "            </tr>\n",
       "            <tr>\n",
       "                        <th id=\"T_0bf43_level0_row2\" class=\"row_heading level0 row2\" >2000-3000</th>\n",
       "                        <td id=\"T_0bf43_row2_col0\" class=\"data row2 col0\" >District</td>\n",
       "                        <td id=\"T_0bf43_row2_col1\" class=\"data row2 col1\" >$655.0</td>\n",
       "                        <td id=\"T_0bf43_row2_col2\" class=\"data row2 col2\" >90.6%</td>\n",
       "            </tr>\n",
       "            <tr>\n",
       "                        <th id=\"T_0bf43_level0_row3\" class=\"row_heading level0 row3\" >3000-4000</th>\n",
       "                        <td id=\"T_0bf43_row3_col0\" class=\"data row3 col0\" >District</td>\n",
       "                        <td id=\"T_0bf43_row3_col1\" class=\"data row3 col1\" >$637.0</td>\n",
       "                        <td id=\"T_0bf43_row3_col2\" class=\"data row3 col2\" >53.0%</td>\n",
       "            </tr>\n",
       "            <tr>\n",
       "                        <th id=\"T_0bf43_level0_row4\" class=\"row_heading level0 row4\" >4000-5000</th>\n",
       "                        <td id=\"T_0bf43_row4_col0\" class=\"data row4 col0\" >District</td>\n",
       "                        <td id=\"T_0bf43_row4_col1\" class=\"data row4 col1\" >$652.0</td>\n",
       "                        <td id=\"T_0bf43_row4_col2\" class=\"data row4 col2\" >54.6%</td>\n",
       "            </tr>\n",
       "    </tbody></table>"
      ],
      "text/plain": [
       "<pandas.io.formats.style.Styler at 0x7fd33b904760>"
      ]
     },
     "execution_count": 55,
     "metadata": {},
     "output_type": "execute_result"
    }
   ],
   "source": [
    "schools_df[\"Student Body\"] = pd.cut(schools_df[\"Total Students\"], bins, labels=group_labels, include_lowest=True) \n",
    "schools_df3 = schools_df.drop(columns=[\"Total Budget\",\"% Passing Math\",\"Average Math\",\"Average Reading\",\"% Passing Reading\",\"Total Students\",\"Spending Per Student\"])\n",
    "student_sizes = schools_df3.groupby(\"Student Body\")\n",
    "student_sizes.max().style.format(style_dict)"
   ]
  },
  {
   "cell_type": "markdown",
   "id": "c847f948-81ea-45a9-85c4-7552a71e0b12",
   "metadata": {},
   "source": [
    "### Passing Overall by Grade Level"
   ]
  },
  {
   "cell_type": "code",
   "execution_count": 56,
   "id": "65493cdc-72e3-4b5f-8fdc-1ee8aafddb30",
   "metadata": {},
   "outputs": [
    {
     "data": {
      "text/html": [
       "<style  type=\"text/css\" >\n",
       "</style><table id=\"T_5b7af_\" ><thead>    <tr>        <th class=\"blank level0\" ></th>        <th class=\"col_heading level0 col0\" >Average Reading</th>        <th class=\"col_heading level0 col1\" >Average Math</th>    </tr>    <tr>        <th class=\"index_name level0\" >grade</th>        <th class=\"blank\" ></th>        <th class=\"blank\" ></th>    </tr></thead><tbody>\n",
       "                <tr>\n",
       "                        <th id=\"T_5b7af_level0_row0\" class=\"row_heading level0 row0\" >10th</th>\n",
       "                        <td id=\"T_5b7af_row0_col0\" class=\"data row0 col0\" >84.4</td>\n",
       "                        <td id=\"T_5b7af_row0_col1\" class=\"data row0 col1\" >84.5</td>\n",
       "            </tr>\n",
       "            <tr>\n",
       "                        <th id=\"T_5b7af_level0_row1\" class=\"row_heading level0 row1\" >11th</th>\n",
       "                        <td id=\"T_5b7af_row1_col0\" class=\"data row1 col0\" >84.6</td>\n",
       "                        <td id=\"T_5b7af_row1_col1\" class=\"data row1 col1\" >84.5</td>\n",
       "            </tr>\n",
       "            <tr>\n",
       "                        <th id=\"T_5b7af_level0_row2\" class=\"row_heading level0 row2\" >12th</th>\n",
       "                        <td id=\"T_5b7af_row2_col0\" class=\"data row2 col0\" >84.5</td>\n",
       "                        <td id=\"T_5b7af_row2_col1\" class=\"data row2 col1\" >84.5</td>\n",
       "            </tr>\n",
       "            <tr>\n",
       "                        <th id=\"T_5b7af_level0_row3\" class=\"row_heading level0 row3\" >9th</th>\n",
       "                        <td id=\"T_5b7af_row3_col0\" class=\"data row3 col0\" >84.4</td>\n",
       "                        <td id=\"T_5b7af_row3_col1\" class=\"data row3 col1\" >84.3</td>\n",
       "            </tr>\n",
       "    </tbody></table>"
      ],
      "text/plain": [
       "<pandas.io.formats.style.Styler at 0x7fd33a5fea90>"
      ]
     },
     "execution_count": 56,
     "metadata": {},
     "output_type": "execute_result"
    }
   ],
   "source": [
    "pass_math_read2 = pass_math_read.drop(columns=[\"School ID\",\"Student ID\",\"size\",\"budget\"]).rename(columns={\"reading_score\":\"Average Reading\",\"math_score\":\"Average Math\"}).groupby(\"grade\").mean().style.format(style_dict)\n",
    "pass_math_read2"
   ]
  },
  {
   "cell_type": "markdown",
   "id": "1a417b85-d373-4ea7-93f2-1eb75a0b3219",
   "metadata": {},
   "source": [
    "### Average Overall Passing and Student Percent of Budget by Type"
   ]
  },
  {
   "cell_type": "code",
   "execution_count": 64,
   "id": "60731441-0442-4331-910e-9dbe4473b1e0",
   "metadata": {},
   "outputs": [
    {
     "data": {
      "text/html": [
       "<style  type=\"text/css\" >\n",
       "</style><table id=\"T_757e7_\" ><thead>    <tr>        <th class=\"blank level0\" ></th>        <th class=\"col_heading level0 col0\" >% Passing Overall</th>        <th class=\"col_heading level0 col1\" >Student % Budget</th>    </tr>    <tr>        <th class=\"index_name level0\" >School Type</th>        <th class=\"blank\" ></th>        <th class=\"blank\" ></th>    </tr></thead><tbody>\n",
       "                <tr>\n",
       "                        <th id=\"T_757e7_level0_row0\" class=\"row_heading level0 row0\" >Charter</th>\n",
       "                        <td id=\"T_757e7_row0_col0\" class=\"data row0 col0\" >90.4%</td>\n",
       "                        <td id=\"T_757e7_row0_col1\" class=\"data row0 col1\" >0.08%</td>\n",
       "            </tr>\n",
       "            <tr>\n",
       "                        <th id=\"T_757e7_level0_row1\" class=\"row_heading level0 row1\" >District</th>\n",
       "                        <td id=\"T_757e7_row1_col0\" class=\"data row1 col0\" >53.7%</td>\n",
       "                        <td id=\"T_757e7_row1_col1\" class=\"data row1 col1\" >0.03%</td>\n",
       "            </tr>\n",
       "    </tbody></table>"
      ],
      "text/plain": [
       "<pandas.io.formats.style.Styler at 0x7fd348c34c10>"
      ]
     },
     "execution_count": 64,
     "metadata": {},
     "output_type": "execute_result"
    }
   ],
   "source": [
    "budget_pass_type_df.groupby(\"School Type\").mean().style.format(style_dict)"
   ]
  },
  {
   "cell_type": "markdown",
   "id": "2ba7b8a1-fe43-4171-8a1c-b70ab81e61e1",
   "metadata": {},
   "source": [
    "### Average Scores by Gender"
   ]
  },
  {
   "cell_type": "code",
   "execution_count": 43,
   "id": "a99926ac-8bfd-420c-a53a-5c3557949325",
   "metadata": {},
   "outputs": [
    {
     "data": {
      "text/html": [
       "<style  type=\"text/css\" >\n",
       "</style><table id=\"T_9db80_\" ><thead>    <tr>        <th class=\"blank level0\" ></th>        <th class=\"col_heading level0 col0\" >Average Reading</th>        <th class=\"col_heading level0 col1\" >Average Math</th>    </tr>    <tr>        <th class=\"index_name level0\" >gender</th>        <th class=\"blank\" ></th>        <th class=\"blank\" ></th>    </tr></thead><tbody>\n",
       "                <tr>\n",
       "                        <th id=\"T_9db80_level0_row0\" class=\"row_heading level0 row0\" >F</th>\n",
       "                        <td id=\"T_9db80_row0_col0\" class=\"data row0 col0\" >84.5</td>\n",
       "                        <td id=\"T_9db80_row0_col1\" class=\"data row0 col1\" >84.5</td>\n",
       "            </tr>\n",
       "            <tr>\n",
       "                        <th id=\"T_9db80_level0_row1\" class=\"row_heading level0 row1\" >M</th>\n",
       "                        <td id=\"T_9db80_row1_col0\" class=\"data row1 col0\" >84.4</td>\n",
       "                        <td id=\"T_9db80_row1_col1\" class=\"data row1 col1\" >84.4</td>\n",
       "            </tr>\n",
       "    </tbody></table>"
      ],
      "text/plain": [
       "<pandas.io.formats.style.Styler at 0x7fd319181a30>"
      ]
     },
     "execution_count": 43,
     "metadata": {},
     "output_type": "execute_result"
    }
   ],
   "source": [
    "pass_math_read2 = pass_math_read.drop(columns=[\"Student ID\", \"School ID\", \"budget\",\"size\"]).rename(columns={\"reading_score\": \"Average Reading\", \"math_score\": \"Average Math\"})\n",
    "pass_math_read2.groupby(\"gender\").mean().style.format(style_dict)"
   ]
  }
 ],
 "metadata": {
  "kernelspec": {
   "display_name": "Python 3",
   "language": "python",
   "name": "python3"
  },
  "language_info": {
   "codemirror_mode": {
    "name": "ipython",
    "version": 3
   },
   "file_extension": ".py",
   "mimetype": "text/x-python",
   "name": "python",
   "nbconvert_exporter": "python",
   "pygments_lexer": "ipython3",
   "version": "3.8.8"
  }
 },
 "nbformat": 4,
 "nbformat_minor": 5
}
